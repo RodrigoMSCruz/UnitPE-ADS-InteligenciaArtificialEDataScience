{
  "cells": [
    {
      "cell_type": "markdown",
      "metadata": {
        "id": "M05o93nSEFSA"
      },
      "source": [
        "# Introdução a Python\n",
        "\n",
        "Vamos imprimir nossa primeira frase em Python. Para isso, usaremos o comando print.\n"
      ]
    },
    {
      "cell_type": "code",
      "execution_count": 1,
      "metadata": {
        "colab": {
          "base_uri": "https://localhost:8080/"
        },
        "id": "jNcOy5HhEFSC",
        "outputId": "03edfe74-1271-4d5b-cfd0-a424f227e12d"
      },
      "outputs": [
        {
          "output_type": "stream",
          "name": "stdout",
          "text": [
            "Olá pessoal!\n"
          ]
        }
      ],
      "source": [
        "print(\"Olá pessoal!\")"
      ]
    },
    {
      "cell_type": "markdown",
      "metadata": {
        "id": "AxtE3EqTEFSE"
      },
      "source": [
        "Agora, vamos utilizar uma variável para guardar a mensagem."
      ]
    },
    {
      "cell_type": "code",
      "execution_count": 2,
      "metadata": {
        "colab": {
          "base_uri": "https://localhost:8080/"
        },
        "id": "oxKaVc48EFSF",
        "outputId": "9819c6de-89c5-4b09-8dd9-8d48ad77a848"
      },
      "outputs": [
        {
          "output_type": "stream",
          "name": "stdout",
          "text": [
            "Olá\n"
          ]
        }
      ],
      "source": [
        "mensagem = 'Olá'\n",
        "print(mensagem) "
      ]
    },
    {
      "cell_type": "markdown",
      "metadata": {
        "id": "qp2Pp3XhEFSG"
      },
      "source": [
        "Como faríamos para traduzir nosso algoritmo de Portugol para Python?\n",
        "\n",
        "```python\n",
        "imprima \"Digite um número\"\n",
        "leia x\n",
        "y = (x * 2)\n",
        "imprima y\n",
        "```\n",
        "\n",
        "Teste a versão abaixo:"
      ]
    },
    {
      "cell_type": "code",
      "execution_count": 3,
      "metadata": {
        "colab": {
          "base_uri": "https://localhost:8080/"
        },
        "id": "hvAMAgLgEFSH",
        "outputId": "a27f4bed-c78e-42a5-f652-140445aa2de7"
      },
      "outputs": [
        {
          "output_type": "stream",
          "name": "stdout",
          "text": [
            "Digite um número: 4\n",
            "44\n"
          ]
        }
      ],
      "source": [
        "x = (input('Digite um número: '))\n",
        "y = (x * 2)\n",
        "print(y)"
      ]
    },
    {
      "cell_type": "markdown",
      "metadata": {
        "id": "UOdMD9pzEFSI"
      },
      "source": [
        "O que deu errado? \n",
        "\n",
        "R: O programa fez a leitura de um texto. Ou seja, não fez a leitura do valor inteiro 2. Ele leu o texto \"2\". Quando executou `y = (x * 2)`, duplicou o texto \"2\", resultando no texto \"22\".\n",
        "\n",
        "Para corrigir o problema, vamos indicar que queremos ler um inteiro, através do comando `int()`"
      ]
    },
    {
      "cell_type": "code",
      "execution_count": 4,
      "metadata": {
        "colab": {
          "base_uri": "https://localhost:8080/"
        },
        "id": "HEfNJ5XoEFSJ",
        "outputId": "ef6917ee-e694-4418-e148-76eb44cf7b06"
      },
      "outputs": [
        {
          "output_type": "stream",
          "name": "stdout",
          "text": [
            "Digite um número: 4\n",
            "8\n"
          ]
        }
      ],
      "source": [
        "x = int(input('Digite um número: '))\n",
        "y = (x * 2)\n",
        "print(y)"
      ]
    },
    {
      "cell_type": "markdown",
      "metadata": {
        "id": "9wNY21LpEFSK"
      },
      "source": [
        "Corrija o código abaixo para que seja impresso o texto corrija-me:"
      ]
    },
    {
      "cell_type": "code",
      "execution_count": 5,
      "metadata": {
        "colab": {
          "base_uri": "https://localhost:8080/"
        },
        "id": "wlLlLdvzEFSM",
        "outputId": "4e04760d-e154-4499-cf25-75df024eae40"
      },
      "outputs": [
        {
          "output_type": "stream",
          "name": "stdout",
          "text": [
            "corrija-me\n"
          ]
        }
      ],
      "source": [
        "print(\"corrija-me\")"
      ]
    },
    {
      "cell_type": "markdown",
      "metadata": {
        "id": "4ZMcjIY_EFSN"
      },
      "source": [
        "É possível combinar textos, usando o comando de concatenação `+`. Vamos fazer um teste."
      ]
    },
    {
      "cell_type": "code",
      "execution_count": 6,
      "metadata": {
        "colab": {
          "base_uri": "https://localhost:8080/"
        },
        "id": "AAhuJAHcEFSN",
        "outputId": "1b3eb1c3-a240-427d-b5dc-c8da66248ff2"
      },
      "outputs": [
        {
          "output_type": "stream",
          "name": "stdout",
          "text": [
            "Programação com Python\n"
          ]
        }
      ],
      "source": [
        "print('Programação ' + 'com ' + 'Python')"
      ]
    },
    {
      "cell_type": "markdown",
      "metadata": {
        "id": "ypKe8hwBEFSN"
      },
      "source": [
        "Ajuste o código acima para incluir espaços entre as palavras da frase impressa."
      ]
    },
    {
      "cell_type": "code",
      "execution_count": 7,
      "metadata": {
        "colab": {
          "base_uri": "https://localhost:8080/"
        },
        "id": "oR2pz99NEFSP",
        "outputId": "c247412b-9e39-495e-98c7-2c4c8b91c06d"
      },
      "outputs": [
        {
          "output_type": "stream",
          "name": "stdout",
          "text": [
            "Programação com Python\n"
          ]
        }
      ],
      "source": [
        "print('Programação ' + 'com ' + 'Python')"
      ]
    },
    {
      "cell_type": "markdown",
      "metadata": {
        "id": "WMOckmxhEFSP"
      },
      "source": [
        "### Exercício\n",
        "\n",
        "Crie um programa para: \n",
        "1. Armazenar a **string** 2+3 em uma variável\n",
        "2. Armazenar o valor da operação **numérica** 2+3 em outra variável\n",
        "3. Imprimir o valor da string seguida pelo resultado numérico da operação na mesma linha \n",
        "\n",
        "*Atenção! Utilize a função str() para converter o valor numérico em string na hora de imprimir*"
      ]
    },
    {
      "cell_type": "code",
      "execution_count": 8,
      "metadata": {
        "colab": {
          "base_uri": "https://localhost:8080/"
        },
        "id": "x-mGxCoTEFSQ",
        "outputId": "a6d20645-7607-4a3e-8426-e399ed2274f3"
      },
      "outputs": [
        {
          "output_type": "stream",
          "name": "stdout",
          "text": [
            "Resultado de 2 + 3 é igual a: 5\n"
          ]
        }
      ],
      "source": [
        "soma = \"2 + 3\"\n",
        "resultado = 2 + 3\n",
        "print(\"Resultado de \" + soma + \" é igual a: \" + str(resultado))"
      ]
    },
    {
      "cell_type": "markdown",
      "metadata": {
        "id": "M6W1TvliEFSQ"
      },
      "source": [
        "## Nomes de variáveis e funções\n",
        "\n",
        "* Podem conter letras, dígitos e underscores ( _ )\n",
        "* Não pode iniciar com dígitos\n",
        "* Boas práticas:\n",
        "    - Utilize nomes significativos;\n",
        "    - Escreva todas as letras minúsculas;\n",
        "    - Separe palavras com _ (comum em Python); \n",
        "    - Evite preposições para separar palavras;\n",
        "    - Evite acentos e cedilha.\n",
        "\n",
        "\n",
        "\n",
        "| Código Python                  | Avaliação                      |\n",
        "|:-------------------------------|:------------------------------ |\n",
        "|x = 'Rua Python\"                | ok, mas não recomendável (nome sem significado) |\n",
        "|1endereço = 'Rua Python'        | erro de sintaxe (inicia com número)               |\n",
        "|endereço = 'Rua Python'         | ok, mas não recomendável (uso de cedilha)\n",
        "|endereco = 'Rua Python'         | ok                      |\n",
        "|endereco1 = 'Rua Python'        | ok                             |\n",
        "|endereco_de_rui = 'Rua Python'       | ok, mas não recomendado (uso de preoposição)        |\n",
        "|endereco_rui = 'Rua Python'          | ok                             |\n",
        "|enderecoRui = 'Rua Python'           | ok, mas não é padrão Python    |\n",
        "|def = 'Rua Python'                         | erro de sintaxe, palavra reservada |"
      ]
    },
    {
      "cell_type": "markdown",
      "metadata": {
        "id": "-e0clBTaEFSR"
      },
      "source": [
        "## Palavras reseravadas de Python\n",
        "\n",
        "```python\n",
        "and       del       from      None      True\n",
        "as        elif      global    nonlocal  try\n",
        "assert    else      if        not       while\n",
        "break     except    import    or        with\n",
        "class     False     in        pass      yield\n",
        "continue  finally   is        raise     async\n",
        "def       for       lambda    return    await\n",
        "```"
      ]
    },
    {
      "cell_type": "markdown",
      "metadata": {
        "id": "aX9mrDNOEFSS"
      },
      "source": [
        "_______________________"
      ]
    },
    {
      "cell_type": "markdown",
      "metadata": {
        "id": "WHtpjWmgEFSS"
      },
      "source": [
        "## Ajude Rui a alcançar seu peso ideal \n",
        "\n",
        "![](./imgs/RuiRegime.png)\n",
        "\n",
        "Seu amigo Rui está acima do peso ideal e pediu para você ajudá-lo no cálculo de calorias gastas durante um ano.\n",
        "O primeiro passo é armazenar o nome de Rui em uma **variável** e imprimir uma mensagem de boas vindas, utilizando essa variável.\n",
        "\n",
        "*Algo do tipo: Olá, Rui!*\n",
        "\n",
        "* Leia a taxa metabólica basal (calorias gastas sem esforço durante o dia) de Rui e armazene em uma variável;\n",
        "* Leia a quantidade média de calorias que Rui gasta quando faz alguma atividade física e armazene em uma variável;\n",
        "* Leia a quantidade de vezes que Rui faz atividades físicas durante a semana;\n",
        "* Leia a quantidade de meses que Rui descansa durante um ano;\n",
        "* Assuma que todo mês possui 4 semanas;\n",
        "* Calcule e imprima a quantidade de calorias gastas por Rui durante o ano.\n",
        "\n",
        "*Ex: Rui, você gasta ___ calorias por ano!*"
      ]
    },
    {
      "cell_type": "code",
      "execution_count": null,
      "metadata": {
        "id": "HaDJ9gA1EFSS"
      },
      "outputs": [],
      "source": [
        "nome = 'Rui'\n",
        "print('Olá! ' + nome)\n",
        "taxa_basal    = int(input('Qual é sua taxa metabólica basal? '))\n",
        "cal_atividade = int(input('Quantas calorias você gasta por atividade física? '))\n",
        "atividade_sem = int(input('Quantas vezes você se exercita por semana? '))\n",
        "descanso      = int(input('Quantos meses do ano você descansa? '))\n",
        "# COMPLETE\n",
        "# OS CÁLCULOS\n",
        "# AQUI\n",
        "print(nome  + ', realizamos o cálculo')\n",
        "print('Você gasta ' + str(calorias_gastas) + ' calorias por ano!')"
      ]
    },
    {
      "cell_type": "markdown",
      "metadata": {
        "id": "NQwHnHCEEFSS"
      },
      "source": [
        "Agora que Rui já sabe quantas calorias gasta por ano, ele precisa saber quanto ele consome de calorias por ano, pois só vai emagrecer se a quantidade que consome for menor do que a que ele gasta.\n",
        "\n",
        "Complemente seu programa com o cálculo do consumo de calorias.\n",
        "\n",
        "* Leia a quantidade média de calorias que Rui consome por refeição;\n",
        "* Leia quantas refeições ele faz por dia;\n",
        "* Assuma novamente que um mês possui 4 semanas;\n",
        "* Calcule e imprima a quantidade de calorias consumidas por Rui em um ano.\n"
      ]
    },
    {
      "cell_type": "code",
      "execution_count": null,
      "metadata": {
        "id": "2LM9QAgnEFSS"
      },
      "outputs": [],
      "source": [
        "nome = 'Rui'\n",
        "print('Olá! ' + nome)\n",
        "taxa_basal    = int(input('Qual é sua taxa metabólica basal? '))\n",
        "cal_atividade = int(input('Quantas calorias você gasta por atividade física? '))\n",
        "atividade_sem = int(input('Quantas vezes você se exercita por semana? '))\n",
        "descanso      = int(input('Quantos meses do ano você descansa? '))\n",
        "# COMPLETE\n",
        "# OS CÁLCULOS\n",
        "# AQUI\n",
        "print(nome  + ', realizamos o cálculo')\n",
        "print('Você gasta ' + str(calorias_gastas) + ' calorias por ano!')\n",
        "calorias_consumidas = int(input('Qual a média de calorias que você consome por refeição?'))\n",
        "num_refeicoes = int(input('Quantas refeições você faz por dia?'))\n",
        "# COMPLETE OS CÁLCULOS AQUI\n",
        "print(nome + ', realizamos o cálculo!')\n",
        "print('Você consome ' + str(calorias_consumidas_ano) + ' calorias por ano!')"
      ]
    },
    {
      "cell_type": "markdown",
      "metadata": {
        "id": "J84SPgD9EFSU"
      },
      "source": [
        "### Organize seu código! \n",
        "\n",
        "Por exemplo:\n",
        "* Separe cada bloco de código com uma linha;\n",
        "* Inclua um comentário acima de cada bloco de código, explicando o que o código faz."
      ]
    },
    {
      "cell_type": "code",
      "execution_count": null,
      "metadata": {
        "id": "xObsQWtAEFSU"
      },
      "outputs": [],
      "source": [
        "# mensagem inicial\n",
        "nome = 'Rui'\n",
        "print('Olá! ' + nome)\n",
        "\n",
        "# Cálculo do gasto calórico\n",
        "taxa_basal    = int(input('Qual é sua taxa metabólica basal? '))\n",
        "cal_atividade = int(input('Quantas calorias você gasta por atividade física? '))\n",
        "atividade_sem = int(input('Quantas vezes você se exercita por semana? '))\n",
        "descanso      = int(input('Quantos meses do ano você descansa? '))\n",
        "# COMPLETE\n",
        "# OS CÁLCULOS\n",
        "# AQUI\n",
        "\n",
        "# impressão do relatório do gasto calórico\n",
        "print(nome  + ', realizamos o cálculo')\n",
        "print('Você gasta ' + str(calorias_gastas) + ' calorias por ano!')\n",
        "\n",
        "# Cálculo do consumo calórico\n",
        "# COMPLETE\n",
        "# OS CÁLCULOS\n",
        "# AQUI\n",
        "\n",
        "# impressão do relatório de consumo calórico\n",
        "print(nome + ', realizamos o cálculo!')\n",
        "print('Você consome ' + str(calorias_consumidas_ano) + ' calorias por ano!')"
      ]
    },
    {
      "cell_type": "markdown",
      "metadata": {
        "id": "xhKp1pLxEFSV"
      },
      "source": [
        "Agora que Rui já sabe quantas calorias gasta e consome por ano, será que ele vai ganhar ou perder peso durante um ano?\n",
        "\n",
        "Vamos utilizar o comando if-else para decidir se ele irá ganhar ou perder peso.\n",
        "\n",
        "![image.png](attachment:image.png)"
      ]
    },
    {
      "cell_type": "code",
      "execution_count": null,
      "metadata": {
        "id": "7Q0ByASqEFSV"
      },
      "outputs": [],
      "source": []
    },
    {
      "cell_type": "markdown",
      "metadata": {
        "id": "gOiezMlhEFSV"
      },
      "source": [
        "Modifique o programa para que ele realize as mesmas operações para um outro amigo seu, chamado Augusto."
      ]
    },
    {
      "cell_type": "code",
      "execution_count": null,
      "metadata": {
        "id": "T49akxs9EFSV"
      },
      "outputs": [],
      "source": []
    }
  ],
  "metadata": {
    "kernelspec": {
      "display_name": "Python 3",
      "language": "python",
      "name": "python3"
    },
    "language_info": {
      "codemirror_mode": {
        "name": "ipython",
        "version": 3
      },
      "file_extension": ".py",
      "mimetype": "text/x-python",
      "name": "python",
      "nbconvert_exporter": "python",
      "pygments_lexer": "ipython3",
      "version": "2.7.-1"
    },
    "toc": {
      "base_numbering": 1,
      "nav_menu": {},
      "number_sections": true,
      "sideBar": true,
      "skip_h1_title": false,
      "title_cell": "Table of Contents",
      "title_sidebar": "Contents",
      "toc_cell": false,
      "toc_position": {},
      "toc_section_display": true,
      "toc_window_display": false
    },
    "vscode": {
      "interpreter": {
        "hash": "767d51c1340bd893661ea55ea3124f6de3c7a262a8b4abca0554b478b1e2ff90"
      }
    },
    "colab": {
      "provenance": []
    }
  },
  "nbformat": 4,
  "nbformat_minor": 0
}