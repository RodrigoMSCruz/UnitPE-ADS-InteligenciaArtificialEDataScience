{
  "cells": [
    {
      "cell_type": "markdown",
      "metadata": {
        "id": "NSpUxxM-MH3O"
      },
      "source": [
        "# Dicionários\n",
        "\n",
        "Assim como conhecemos em sua forma tradicional, um *dicionário* possui um conjunto de palavras chaves associadas às suas respectivas definições (valores). "
      ]
    },
    {
      "cell_type": "code",
      "execution_count": 1,
      "metadata": {
        "colab": {
          "base_uri": "https://localhost:8080/"
        },
        "id": "YQ2sMhCUMH3Q",
        "outputId": "2f7dc53c-1b07-47a5-ac8f-e9f1fb8add3c"
      },
      "outputs": [
        {
          "output_type": "stream",
          "name": "stdout",
          "text": [
            "Designação comum de beijo, da ação ou efeito de beijar; beijo.\n"
          ]
        }
      ],
      "source": [
        "meu_dicionario = {'Estreptococos' : 'Bactérias que se apresentam ao microscópio reunidas em forma de cadeias, como as contas de um colar.',\n",
        "                 'Ósculo' : 'Designação comum de beijo, da ação ou efeito de beijar; beijo.',\n",
        "                  'Amplexo' : 'Ação de abraçar, de apertar por entre os braços para demonstrar de carinho e afeto; abraço'\n",
        "                 }\n",
        "print(meu_dicionario['Ósculo'])"
      ]
    },
    {
      "cell_type": "markdown",
      "metadata": {
        "id": "zwfTV6XmMH3U"
      },
      "source": [
        "Esse mesmo conceito é bastante útil para definirmos tipos estruturados, com campos qualificados."
      ]
    },
    {
      "cell_type": "code",
      "execution_count": 2,
      "metadata": {
        "colab": {
          "base_uri": "https://localhost:8080/"
        },
        "id": "yComkSdBMH3V",
        "outputId": "4a379c4f-dcd7-46ed-8b1f-4ac4a42cf46f"
      },
      "outputs": [
        {
          "output_type": "stream",
          "name": "stdout",
          "text": [
            "{'nome': 'Heloisa', 'idade': 22, 'curso': 'Direito'}\n"
          ]
        }
      ],
      "source": [
        "estudante = {'nome': 'Heloisa', 'idade' : 22, 'curso' : 'Direito'}\n",
        "\n",
        "print(estudante)"
      ]
    },
    {
      "cell_type": "markdown",
      "metadata": {
        "id": "WCWTp-w2MH3W"
      },
      "source": [
        "Assim como fizemos no dicionário de palavras, podemos acessar um campo qualquer do dicionário ```estudante```. \n",
        "\n",
        "Para isso, usamos a ```chave de acesso``` desejada. Por exemplo, ```nome```."
      ]
    },
    {
      "cell_type": "code",
      "execution_count": 3,
      "metadata": {
        "colab": {
          "base_uri": "https://localhost:8080/"
        },
        "id": "_KFgM2NeMH3W",
        "outputId": "dda201a4-7f73-46b1-e124-5f05f7e45341"
      },
      "outputs": [
        {
          "output_type": "stream",
          "name": "stdout",
          "text": [
            "Heloisa\n"
          ]
        }
      ],
      "source": [
        "print(estudante['nome'])"
      ]
    },
    {
      "cell_type": "markdown",
      "metadata": {
        "id": "MnXyyOriMH3X"
      },
      "source": [
        "É possível utilizar outros tipos como ```chave de acesso```. Por exemplo, podemos utilizar valores inteiros."
      ]
    },
    {
      "cell_type": "code",
      "execution_count": 4,
      "metadata": {
        "colab": {
          "base_uri": "https://localhost:8080/"
        },
        "id": "QaUl29Q_MH3Y",
        "outputId": "50fc802c-9304-4b09-af25-e53b02d4eda4"
      },
      "outputs": [
        {
          "output_type": "stream",
          "name": "stdout",
          "text": [
            "Ayrton Senna\n"
          ]
        }
      ],
      "source": [
        "F1_campeonato_1990 = {1: 'Ayrton Senna', 2: 'Alain Prost', 3: 'Nelson Piquet'}\n",
        "\n",
        "print(F1_campeonato_1990[1])"
      ]
    },
    {
      "cell_type": "markdown",
      "metadata": {
        "id": "rfkA9nUPMH3Z"
      },
      "source": [
        "### Chaves inexistentes\n",
        "\n",
        "Se tentarmos acessar uma chave que não foi definida no dicionário, Python gera uma mensagem de erro. Por exemplo, se tentarmos acessar a chave ```fone``` do dicionário ```estudante```, receberemos uma mensagem que indica um ```KeyError```. Ou seja, um erro de acesso à chave."
      ]
    },
    {
      "cell_type": "code",
      "execution_count": 5,
      "metadata": {
        "colab": {
          "base_uri": "https://localhost:8080/",
          "height": 171
        },
        "id": "V__HIzQrMH3a",
        "outputId": "5b6d9e37-286c-45d1-fa27-13f38aaec6b0"
      },
      "outputs": [
        {
          "output_type": "error",
          "ename": "KeyError",
          "evalue": "ignored",
          "traceback": [
            "\u001b[0;31m---------------------------------------------------------------------------\u001b[0m",
            "\u001b[0;31mKeyError\u001b[0m                                  Traceback (most recent call last)",
            "\u001b[0;32m<ipython-input-5-05c7e7ec8593>\u001b[0m in \u001b[0;36m<module>\u001b[0;34m\u001b[0m\n\u001b[0;32m----> 1\u001b[0;31m \u001b[0mprint\u001b[0m\u001b[0;34m(\u001b[0m\u001b[0mestudante\u001b[0m\u001b[0;34m[\u001b[0m\u001b[0;34m'fone'\u001b[0m\u001b[0;34m]\u001b[0m\u001b[0;34m)\u001b[0m\u001b[0;34m\u001b[0m\u001b[0;34m\u001b[0m\u001b[0m\n\u001b[0m",
            "\u001b[0;31mKeyError\u001b[0m: 'fone'"
          ]
        }
      ],
      "source": [
        "print(estudante['fone'])"
      ]
    },
    {
      "cell_type": "markdown",
      "metadata": {
        "id": "Z8DmBeziMH3c"
      },
      "source": [
        "Para obter uma mensagem de melhor qualidade, que informe o problema com clareza, podemos utilizar o método ```get```, que retorna o valor ```None``` como caso default para acessos a chaves inexistentes."
      ]
    },
    {
      "cell_type": "code",
      "execution_count": 6,
      "metadata": {
        "colab": {
          "base_uri": "https://localhost:8080/"
        },
        "id": "PseX1nMrMH3c",
        "outputId": "15e4a5a8-ce6c-4249-cf86-628c2f7621df"
      },
      "outputs": [
        {
          "output_type": "stream",
          "name": "stdout",
          "text": [
            "Heloisa\n",
            "None\n"
          ]
        }
      ],
      "source": [
        "print(estudante.get('nome'))\n",
        "print(estudante.get('fone'))"
      ]
    },
    {
      "cell_type": "markdown",
      "metadata": {
        "id": "I98Cx376MH3e"
      },
      "source": [
        "É possível modificar o valor default para os casos de acessos a chaves inexistentes. \n",
        "\n",
        "Por exemplo, poderíamos retornar a mensagem ```chave inexistente```, como demonstrado no exemplo abaixo."
      ]
    },
    {
      "cell_type": "code",
      "execution_count": 7,
      "metadata": {
        "colab": {
          "base_uri": "https://localhost:8080/"
        },
        "id": "HZ8vl1pAMH3e",
        "outputId": "a0417f34-9846-48f7-8135-f409001b739d"
      },
      "outputs": [
        {
          "output_type": "stream",
          "name": "stdout",
          "text": [
            "chave inexistente\n"
          ]
        }
      ],
      "source": [
        "print(estudante.get('fone','chave inexistente'))"
      ]
    },
    {
      "cell_type": "markdown",
      "metadata": {
        "id": "gQP9QDArMH3f"
      },
      "source": [
        "### Adicionar dados ao dicionário\n",
        "\n",
        "Para adicionar novos campos, por exemplo, ```fone``` ao dicionário ```estudante``` basta executar o comando: "
      ]
    },
    {
      "cell_type": "code",
      "execution_count": 8,
      "metadata": {
        "colab": {
          "base_uri": "https://localhost:8080/"
        },
        "id": "kAAAPu09MH3g",
        "outputId": "c103807d-097a-400a-959a-2b41e88a7393"
      },
      "outputs": [
        {
          "output_type": "stream",
          "name": "stdout",
          "text": [
            "{'nome': 'Heloisa', 'idade': 22, 'curso': 'Direito'}\n",
            "{'nome': 'Heloisa', 'idade': 22, 'curso': 'Direito', 'fone': '9999-9999'}\n"
          ]
        }
      ],
      "source": [
        "estudante = {'nome': 'Heloisa', 'idade' : 22, 'curso' : 'Direito'}\n",
        "\n",
        "print(estudante)\n",
        "\n",
        "estudante['fone'] = '9999-9999'\n",
        "\n",
        "print(estudante)"
      ]
    },
    {
      "cell_type": "markdown",
      "metadata": {
        "id": "D3xdMpI1MH3g"
      },
      "source": [
        "O mesmo resultado é obtido através do comando ```update```:"
      ]
    },
    {
      "cell_type": "code",
      "execution_count": 9,
      "metadata": {
        "colab": {
          "base_uri": "https://localhost:8080/"
        },
        "id": "oo_trrOUMH3i",
        "outputId": "ba51b64f-9abe-4e26-eb03-bdfb5a9b7b6f"
      },
      "outputs": [
        {
          "output_type": "stream",
          "name": "stdout",
          "text": [
            "{'nome': 'Heloisa', 'idade': 22, 'curso': 'Direito'}\n",
            "{'nome': 'Heloisa', 'idade': 22, 'curso': 'Direito', 'fone': '9999-9999'}\n"
          ]
        }
      ],
      "source": [
        "estudante = {'nome': 'Heloisa', 'idade' : 22, 'curso' : 'Direito'}\n",
        "\n",
        "print(estudante)\n",
        "\n",
        "estudante.update({'fone' : '9999-9999'}) \n",
        "\n",
        "print(estudante)"
      ]
    },
    {
      "cell_type": "markdown",
      "metadata": {
        "id": "w_HpsOYBMH3i"
      },
      "source": [
        "### Atualizar dados do dicionário\n",
        "\n",
        "De maneira similar, podemos atualizar o valor de um campo existente do dicionário. \n",
        "\n",
        "Por exemplo, podemos atualizar a ```idade``` com o comando:"
      ]
    },
    {
      "cell_type": "code",
      "execution_count": 10,
      "metadata": {
        "colab": {
          "base_uri": "https://localhost:8080/"
        },
        "id": "MncTjYp5MH3j",
        "outputId": "332bdfaf-1408-4e2b-e82b-e13c79547869"
      },
      "outputs": [
        {
          "output_type": "stream",
          "name": "stdout",
          "text": [
            "{'nome': 'Heloisa', 'idade': 22, 'curso': 'Direito'}\n",
            "{'nome': 'Heloisa', 'idade': 23, 'curso': 'Direito'}\n"
          ]
        }
      ],
      "source": [
        "estudante = {'nome': 'Heloisa', 'idade' : 22, 'curso' : 'Direito'}\n",
        "\n",
        "print(estudante)\n",
        "\n",
        "estudante['idade'] = 23\n",
        "\n",
        "print(estudante)"
      ]
    },
    {
      "cell_type": "markdown",
      "metadata": {
        "id": "ftAV_yyZMH3j"
      },
      "source": [
        "O comando ```update``` pode ser utilizado para atualizar/adicionar vários campos simultaneamente.  "
      ]
    },
    {
      "cell_type": "code",
      "execution_count": 11,
      "metadata": {
        "colab": {
          "base_uri": "https://localhost:8080/"
        },
        "id": "5PJdhauLMH3k",
        "outputId": "2327b559-50e9-4cca-8c43-d8cca877d70f"
      },
      "outputs": [
        {
          "output_type": "stream",
          "name": "stdout",
          "text": [
            "{'nome': 'Heloisa', 'idade': 22, 'curso': 'Direito'}\n",
            "{'nome': 'Rui', 'idade': 11, 'curso': 'Ensino Médio', 'fone': '9999-9999'}\n"
          ]
        }
      ],
      "source": [
        "estudante = {'nome': 'Heloisa', 'idade' : 22, 'curso' : 'Direito'}\n",
        "\n",
        "print(estudante)\n",
        "\n",
        "estudante.update({'nome': 'Rui', 'idade': 11, 'curso': 'Ensino Médio', 'fone' : '9999-9999'}) \n",
        "\n",
        "print(estudante)"
      ]
    },
    {
      "cell_type": "markdown",
      "metadata": {
        "id": "E4NylGq_MH3k"
      },
      "source": [
        "### Remover dados do dicionário\n",
        "\n",
        "O comando ```del``` remove campos do dicionário. Digamos que queremos remover o campo ```idade``` do dicionário ```estudante```."
      ]
    },
    {
      "cell_type": "code",
      "execution_count": 12,
      "metadata": {
        "colab": {
          "base_uri": "https://localhost:8080/"
        },
        "id": "RmnKjgcQMH3k",
        "outputId": "e225da15-88b7-4381-b4a0-2d58bdf8041d"
      },
      "outputs": [
        {
          "output_type": "stream",
          "name": "stdout",
          "text": [
            "{'nome': 'Heloisa', 'idade': 22, 'curso': 'Direito'}\n",
            "{'nome': 'Heloisa', 'curso': 'Direito'}\n"
          ]
        }
      ],
      "source": [
        "estudante = {'nome': 'Heloisa', 'idade' : 22, 'curso' : 'Direito'}\n",
        "\n",
        "print(estudante)\n",
        "\n",
        "del estudante['idade']\n",
        "\n",
        "print(estudante)"
      ]
    },
    {
      "cell_type": "markdown",
      "metadata": {
        "id": "4Kcl6YIEMH3l"
      },
      "source": [
        "É possível também **retornar como resultado** o valor que está sendo removido. Para isso, usamos o comando ```pop```."
      ]
    },
    {
      "cell_type": "code",
      "execution_count": 13,
      "metadata": {
        "colab": {
          "base_uri": "https://localhost:8080/"
        },
        "id": "ReQnM907MH3l",
        "outputId": "03a967a9-2b59-4baf-da1d-c79c2e43578b"
      },
      "outputs": [
        {
          "output_type": "stream",
          "name": "stdout",
          "text": [
            "{'nome': 'Heloisa', 'idade': 22, 'curso': 'Direito'}\n",
            "{'nome': 'Heloisa', 'curso': 'Direito'}\n",
            "22\n"
          ]
        }
      ],
      "source": [
        "estudante = {'nome': 'Heloisa', 'idade' : 22, 'curso' : 'Direito'}\n",
        "\n",
        "print(estudante)\n",
        "\n",
        "idade = estudante.pop('idade')\n",
        "\n",
        "print(estudante)\n",
        "print(idade)"
      ]
    },
    {
      "cell_type": "markdown",
      "metadata": {
        "id": "_tbxkVcjMH3m"
      },
      "source": [
        "### Comandos básicos para dicionários\n",
        "\n",
        "- `len(dic)` - retorna o número de campos armazenados no dicionário ```dic```\n",
        "- `dic.keys()` - retorna todas as chaves do dicionário ```dic```\n",
        "- `dic.values()` - retorna todos os valores armazenados no dicionário ```dic```\n",
        "- `dic.items()` - retorna todos pares (chave,valor) armazenados no dicionário ```dic```"
      ]
    },
    {
      "cell_type": "code",
      "execution_count": 14,
      "metadata": {
        "colab": {
          "base_uri": "https://localhost:8080/"
        },
        "id": "To2FJtDmMH3m",
        "outputId": "7f0d1be9-b58d-4959-97e1-96bf3f910520"
      },
      "outputs": [
        {
          "output_type": "stream",
          "name": "stdout",
          "text": [
            "3\n",
            "dict_keys(['nome', 'idade', 'curso'])\n",
            "dict_values(['Heloisa', 22, 'Direito'])\n",
            "dict_items([('nome', 'Heloisa'), ('idade', 22), ('curso', 'Direito')])\n"
          ]
        }
      ],
      "source": [
        "estudante = {'nome': 'Heloisa', 'idade' : 22, 'curso' : 'Direito'}\n",
        "\n",
        "print(len(estudante))\n",
        "print(estudante.keys())\n",
        "print(estudante.values())\n",
        "print(estudante.items())"
      ]
    },
    {
      "cell_type": "markdown",
      "metadata": {
        "id": "rQPBm_jbMH3m"
      },
      "source": [
        "### Iterar sobre dicionários\n",
        "\n",
        "Quando usamos o comando ```for``` para iterar sobre um dicionário, temos acesso apenas às chaves. \n",
        "\n",
        "Observe o exemplo a seguir. Apenas as chaves do dicionário ```estudante``` são impressas."
      ]
    },
    {
      "cell_type": "code",
      "execution_count": 15,
      "metadata": {
        "colab": {
          "base_uri": "https://localhost:8080/"
        },
        "id": "qz4SbtpPMH3n",
        "outputId": "547cae13-0fb6-445a-e94a-950137a3c424"
      },
      "outputs": [
        {
          "output_type": "stream",
          "name": "stdout",
          "text": [
            "nome\n",
            "idade\n",
            "curso\n"
          ]
        }
      ],
      "source": [
        "estudante = {'nome': 'Heloisa', 'idade' : 22, 'curso' : 'Direito'}\n",
        "\n",
        "for chave in estudante:\n",
        "    print(chave)"
      ]
    },
    {
      "cell_type": "markdown",
      "metadata": {
        "id": "Q7j6qwFlMH3n"
      },
      "source": [
        "Se desejarmos ter acesso aos valores, precisamos utilizar o método ```items```, como demonstrado a seguir:"
      ]
    },
    {
      "cell_type": "code",
      "execution_count": 16,
      "metadata": {
        "colab": {
          "base_uri": "https://localhost:8080/"
        },
        "id": "VWqEXEz8MH3n",
        "outputId": "c145c13c-ec76-43fa-d6ca-cfe036c1d0df"
      },
      "outputs": [
        {
          "output_type": "stream",
          "name": "stdout",
          "text": [
            "Heloisa\n",
            "22\n",
            "Direito\n"
          ]
        }
      ],
      "source": [
        "estudante = {'nome': 'Heloisa', 'idade' : 22, 'curso' : 'Direito'}\n",
        "\n",
        "for valor in estudante.values():\n",
        "    print(valor)"
      ]
    }
  ],
  "metadata": {
    "kernelspec": {
      "display_name": "Python 3.10.8 64-bit",
      "language": "python",
      "name": "python3"
    },
    "language_info": {
      "codemirror_mode": {
        "name": "ipython",
        "version": 3
      },
      "file_extension": ".py",
      "mimetype": "text/x-python",
      "name": "python",
      "nbconvert_exporter": "python",
      "pygments_lexer": "ipython3",
      "version": "3.10.8"
    },
    "vscode": {
      "interpreter": {
        "hash": "949777d72b0d2535278d3dc13498b2535136f6dfe0678499012e853ee9abcab1"
      }
    },
    "colab": {
      "provenance": []
    }
  },
  "nbformat": 4,
  "nbformat_minor": 0
}