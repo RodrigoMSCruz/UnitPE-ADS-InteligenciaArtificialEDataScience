{
  "cells": [
    {
      "cell_type": "markdown",
      "metadata": {
        "id": "dTs5pcw7LRD5"
      },
      "source": [
        "# Tipos primitivos de Python, Entrada de Dados, Formatação da Saída\n",
        "\n",
        "Um **tipo** é um conjunto de valores equipados com um conjunto de operações. Por exemplo, o tipo inteiro possui valores inteiros e podemos realizar operações de soma, subtração, multiplicação e divisão.\n",
        "\n",
        "**Tipos Primitivos** são os tipos que a linguagem já disponibiliza para uso e que não precisam ser definidos. Existem ainda os tipos definidos pelo usuário, porém não iremos abordar neste módulo.\n",
        "\n",
        "## Tipos Dinâmicos vs Tipos Estáticos\n",
        "\n",
        "Uma das pricipais características dos defensores de Python é sua facilidade de uso. Dentre as propriedades da linguagem que contribuem para isso é a chamada `tipagem dinâmica`. Ou seja, programadores Python não precisam declarar previamente o tipo da variável. Esse tipo é inferido quando um valor é atribuído à variável. Além disso, a depender dos valores atribuídos a ela, uma mesma variável pode assumir diferentes tipos em um mesmo programa. \n",
        "\n",
        "Por outro lado, linguagens com `tipos estáticos`, como Java e C, requerem a declaração prévia do tipo. A variável manterá o mesmo tipo até o fim do programa. Vamos comparar as duas abordagens:\n",
        "\n",
        "```c\n",
        "/* código C */\n",
        "int cont;\n",
        "cont = 0;\n",
        "for(int i = 0; i < 100; i++){\n",
        "    cont += i;\n",
        "}\n",
        "```\n",
        "\n",
        "```python\n",
        "# código Python\n",
        "cont = 0\n",
        "for i in range(100):\n",
        "cont += i\n",
        "```\n",
        "\n",
        "Note que, enquanto C declara a variável ```cont``` (int cont;), Python atribui 0 à ```cont``` sem declarar o tipo.\n",
        "\n",
        "No exemplo abaixo, são feitas duas atribuições a uma variáve ```val```. Na primeira, ```val``` recebe um valor numérico e assume um tipo numérico. Na segunda, ```val``` recebe um valor textual e assume um tipo textual.\n",
        "```python\n",
        "# código Python\n",
        "val = 3\n",
        "val = 'três'\n",
        "```\n",
        "Se tentarmos fazer o mesmo em C, o compilador enviaria uma mensagem de erro, pois o tipo de ```val``` deve permanecer o mesmo em todo o programa.\n",
        "```c\n",
        "/* código C */\n",
        "int val;\n",
        "val = 3;\n",
        "val = \"três\"; // Erro: o tipo de val foi declarado como int e não pode receber um string\n",
        "```\n",
        "#### There is no free lunch\n",
        "\n",
        "Mas, se é a tipagem dinâmica é tão boa, pois simplifica a escrita do código, por que todas as linguagens não seguem o mesmo caminho? A resposta é: por que elas querem ter mais garantias de que o código esteja correto. \n",
        "\n",
        "De fato, nas linguagens com tipo estático, não há risco de que o programador atribua acidentalmente um valor de um tipo diferente daquele esperado pela variável. Assim, há uma maior consistência ao longo de todo programa sobre o uso daquela variável. \n",
        "\n",
        "Além disso, ao ter que definir um tipo para uma variável ou função, o programador é forçado a pensar com mais cuidado sobre as propriedades e formas de uso dessa variável ou função. Esse exercício, tem o benefício de produzir códigos mais corretos e de melhor qualidade.\n",
        "\n",
        "Em resumo, existem vantagens e desvantagens da tipagem estática e tipagem dinâmica. É preciso sempre colocar tais questões em perspectiva no momento da escolha de uma linguagem de programação.\n",
        "\n",
        "### Tipos Numéricos\n",
        "\n",
        "Existem dois tipos numéricos:\n",
        "* integers: \n",
        "    … -1, -2, 0, 1, 2 ...\n",
        "* floats: \n",
        "    - 2.24\n",
        "    - 32.2E-5 (a notação E indica potência de 10: 32.2 * 10^5\n",
        "\n",
        "Em Python, não existem diferentes tamanhos para tipos numéricos, como ocorre em outras linguagens, como C e Java.\n",
        "\n"
      ]
    },
    {
      "cell_type": "code",
      "execution_count": 1,
      "metadata": {
        "colab": {
          "base_uri": "https://localhost:8080/"
        },
        "id": "6tdq2zWHLRD-",
        "outputId": "7b1272a4-5f18-46e9-aa7b-3663ad9c4155"
      },
      "outputs": [
        {
          "output_type": "stream",
          "name": "stdout",
          "text": [
            "<class 'int'>\n",
            "<class 'float'>\n",
            "<class 'float'>\n"
          ]
        }
      ],
      "source": [
        "variavel_1 = 14\n",
        "variavel_2 = 14.5\n",
        "variavel_3 = 67.2E-5\n",
        "print(type(variavel_1))\n",
        "print(type(variavel_2))\n",
        "print(type(variavel_3))"
      ]
    },
    {
      "cell_type": "code",
      "execution_count": 2,
      "metadata": {
        "colab": {
          "base_uri": "https://localhost:8080/"
        },
        "id": "-8ldV8w8LRD_",
        "outputId": "f009daeb-0ce9-4822-a8ce-0e73a4c314d0"
      },
      "outputs": [
        {
          "output_type": "stream",
          "name": "stdout",
          "text": [
            "linhas de cima\n",
            "linha de baixo\n"
          ]
        }
      ],
      "source": [
        "print('linhas de cima\\nlinha de baixo')"
      ]
    },
    {
      "cell_type": "code",
      "execution_count": 3,
      "metadata": {
        "colab": {
          "base_uri": "https://localhost:8080/"
        },
        "id": "teID6IdQLREA",
        "outputId": "776cb417-86c2-4d52-ee61-9bc0cf888f49"
      },
      "outputs": [
        {
          "output_type": "stream",
          "name": "stdout",
          "text": [
            "o tab\t :\n"
          ]
        }
      ],
      "source": [
        "print('o tab\\t :')"
      ]
    },
    {
      "cell_type": "code",
      "execution_count": 4,
      "metadata": {
        "colab": {
          "base_uri": "https://localhost:8080/"
        },
        "id": "Up3Gsq7cLREC",
        "outputId": "5dcf6204-ad62-4876-d3e1-21060032b3e8"
      },
      "outputs": [
        {
          "output_type": "stream",
          "name": "stdout",
          "text": [
            "I'm going to study Python:\n"
          ]
        }
      ],
      "source": [
        "print('I\\'m going to study Python:')"
      ]
    },
    {
      "cell_type": "markdown",
      "metadata": {
        "id": "Sy7vegbBLREC"
      },
      "source": [
        "Alguns exemplos do uso de strings são:\n",
        "- nome e sobrenome\n",
        "- nome de usuário\n",
        "- passwords\n",
        "- endereço postal\n",
        "- endereço de email\n",
        "- mensagens para o usuário\n",
        "\n",
        "Vamos agora aplicar algumas funções para manipulação com Strings.\n",
        "\n",
        "Quando usado em strings, o operador **+** realiza a concatenação dos strings.\n",
        "\n",
        "O operador foi usado no programa abaixo, que deveria imprimir a mensagen:\n",
        "\n",
        "*Bom dia, Augusto!*  \n",
        "*Augusto, o que você deseja hoje?*\n",
        "\n",
        "Teste o programa. Se algo der errado, corrija para que imprima a mensagem desejada."
      ]
    },
    {
      "cell_type": "code",
      "execution_count": 20,
      "metadata": {
        "colab": {
          "base_uri": "https://localhost:8080/"
        },
        "id": "oZd2oig_LREF",
        "outputId": "ddac8718-36bf-49d6-cfb6-1dc5857786d8"
      },
      "outputs": [
        {
          "output_type": "stream",
          "name": "stdout",
          "text": [
            "Augusto, Bom dia!\n",
            "O que você deseja hoje?\n"
          ]
        }
      ],
      "source": [
        "nome = 'Augusto,'\n",
        "boas_vindas = 'Bom dia!'\n",
        "pergunta = '\\nO que você deseja hoje?'\n",
        "msg_completa = nome + ' ' + boas_vindas + pergunta\n",
        "print(msg_completa)"
      ]
    },
    {
      "cell_type": "code",
      "execution_count": null,
      "metadata": {
        "id": "xHxMkp_0LREH"
      },
      "outputs": [],
      "source": []
    },
    {
      "cell_type": "code",
      "execution_count": null,
      "metadata": {
        "id": "gr9iPOZhLREH"
      },
      "outputs": [],
      "source": []
    },
    {
      "cell_type": "code",
      "execution_count": null,
      "metadata": {
        "id": "ET5KIaIGLREJ"
      },
      "outputs": [],
      "source": []
    },
    {
      "cell_type": "code",
      "execution_count": null,
      "metadata": {
        "id": "Wh0U2XBzLREJ"
      },
      "outputs": [],
      "source": []
    },
    {
      "cell_type": "code",
      "execution_count": null,
      "metadata": {
        "id": "JGmQkbV1LREK"
      },
      "outputs": [],
      "source": []
    },
    {
      "cell_type": "code",
      "execution_count": null,
      "metadata": {
        "id": "YkP07mNVLREK"
      },
      "outputs": [],
      "source": []
    },
    {
      "cell_type": "markdown",
      "metadata": {
        "id": "aoKF0RDuLREL"
      },
      "source": [
        "Existe uma grande variedade de funções disponíveis para manipular strings. Para consultá-las, utilize a opção de autocomplete, que pode ser ativada no Jupyter através do comando a seguir: "
      ]
    },
    {
      "cell_type": "code",
      "execution_count": null,
      "metadata": {
        "id": "eBM2ZuTyLREL"
      },
      "outputs": [],
      "source": [
        "%config IPCompleter.greedy=True"
      ]
    },
    {
      "cell_type": "markdown",
      "metadata": {
        "id": "cNUiQAedLREL"
      },
      "source": [
        "Agora, basta digitar o nome da variável que armazena a string seguida de ponto e clicar na tecla tab."
      ]
    },
    {
      "cell_type": "markdown",
      "metadata": {
        "id": "Pt4nbuAWLREM"
      },
      "source": [
        "### Usando _f-string_ para formatar a saída\n",
        "\n",
        "Vamos agora estudar maneira mais sofisticadas para formatar a saída do programa através da _f-string_.\n",
        "\n",
        "Até agora, temos utilizado a seguinte estrutura:"
      ]
    },
    {
      "cell_type": "code",
      "execution_count": null,
      "metadata": {
        "id": "lSu_tX-eLREN"
      },
      "outputs": [],
      "source": [
        "nome = 'Augusto'\n",
        "idade = 18\n",
        "print('Parabéns, ' + nome + '! Hoje você completa ' + str(idade) + ' anos!')"
      ]
    },
    {
      "cell_type": "markdown",
      "metadata": {
        "id": "MyMvTmxsLREO"
      },
      "source": [
        "Não é uma forma tão interessante de formatar a saída, pois o programador precisa:\n",
        "1. Incluir os operadores de concatenação\n",
        "2. Ter cuidado para inserir espaços corretamente\n",
        "3. Converter explicitamente os tipos numéricos para strings\n",
        "\n",
        "Usando a _f-string_, o programador evita essas dificuldades.\n",
        "\n",
        "O código a seguir produzirá o mesmo efeito:"
      ]
    },
    {
      "cell_type": "code",
      "execution_count": 8,
      "metadata": {
        "colab": {
          "base_uri": "https://localhost:8080/"
        },
        "id": "urMM5N07LREO",
        "outputId": "6955f3ea-46ec-41f9-e236-2bae9dc76e51"
      },
      "outputs": [
        {
          "output_type": "stream",
          "name": "stdout",
          "text": [
            "Parabéns, Augusto! Hoje você completa 18 anos!\n"
          ]
        }
      ],
      "source": [
        "nome = 'Augusto'\n",
        "idade = 18\n",
        "print(f'Parabéns, {nome}! Hoje você completa {idade} anos!')"
      ]
    },
    {
      "cell_type": "markdown",
      "metadata": {
        "id": "HV8wwR1aLREO"
      },
      "source": [
        "Note que _f-string_ já converte o valor numérico armazenado em `idade` em uma string.\n",
        "\n",
        "Você também pode usar expressões e comandos dentro das chaves de uma _f-string_:"
      ]
    },
    {
      "cell_type": "code",
      "execution_count": 17,
      "metadata": {
        "colab": {
          "base_uri": "https://localhost:8080/"
        },
        "id": "IyYRxqoaLREP",
        "outputId": "e87ee5a5-4f85-482e-c00a-9d059b3cfbb2"
      },
      "outputs": [
        {
          "output_type": "stream",
          "name": "stdout",
          "text": [
            "O resultado da expressão 50 * 3 é 150\n",
            "Parabéns, rodrigo! Hoje você completa 216 meses de vida!\n"
          ]
        }
      ],
      "source": [
        "print(f'O resultado da expressão 50 * 3 é {50 * 3}')\n",
        "print(f'Parabéns, {nome.lower()}! Hoje você completa {idade * 12} meses de vida!')"
      ]
    },
    {
      "cell_type": "markdown",
      "metadata": {
        "id": "oUHC8bEDLREP"
      },
      "source": [
        "Se você quiser formatar um número decimal especificando o número de casas depois da vírgula, é possível fazer com a seguinte sintaxe:"
      ]
    },
    {
      "cell_type": "code",
      "execution_count": 9,
      "metadata": {
        "colab": {
          "base_uri": "https://localhost:8080/"
        },
        "id": "ywZg4ir3LREQ",
        "outputId": "0b52d8fb-54a0-4831-b1e0-f8fc8d64c2dd"
      },
      "outputs": [
        {
          "output_type": "stream",
          "name": "stdout",
          "text": [
            "O valor da parcela será: R$ 16.666666666666668\n",
            "O valor da parcela será: R$ 16.67\n"
          ]
        }
      ],
      "source": [
        "preco_total = 100.0\n",
        "quant_parcelas = 6\n",
        "valor_parcela = preco_total / quant_parcelas\n",
        "print(f'O valor da parcela será: R$ {valor_parcela}')\n",
        "print(f'O valor da parcela será: R$ {valor_parcela:.2f}')"
      ]
    },
    {
      "cell_type": "markdown",
      "metadata": {
        "id": "3ZWEq6LWLRER"
      },
      "source": [
        "----------------------"
      ]
    },
    {
      "cell_type": "markdown",
      "metadata": {
        "id": "Nr7ncimiLRER"
      },
      "source": [
        "### Uma dica legal sobre o comando `print`"
      ]
    },
    {
      "cell_type": "markdown",
      "metadata": {
        "id": "je-BibPgLRER"
      },
      "source": [
        "O comando `print` sempre inclui uma quebra de linhas no final. \n",
        "Para evitar isso, é possível usar o parâmetro `end`."
      ]
    },
    {
      "cell_type": "code",
      "execution_count": 10,
      "metadata": {
        "colab": {
          "base_uri": "https://localhost:8080/"
        },
        "id": "dw5e74SbLRES",
        "outputId": "94931aed-c10f-4f39-ec9d-22939ab2a174"
      },
      "outputs": [
        {
          "output_type": "stream",
          "name": "stdout",
          "text": [
            "Bom dia,\n",
            "Augusto!\n"
          ]
        }
      ],
      "source": [
        "print('Bom dia,')\n",
        "print('Augusto!')"
      ]
    },
    {
      "cell_type": "code",
      "execution_count": 11,
      "metadata": {
        "colab": {
          "base_uri": "https://localhost:8080/"
        },
        "id": "Xnwym21ALRET",
        "outputId": "c882d690-7e0d-47cd-b9f3-f8f1933aa884"
      },
      "outputs": [
        {
          "output_type": "stream",
          "name": "stdout",
          "text": [
            "Bom dia, Augusto!\n"
          ]
        }
      ],
      "source": [
        "print('Bom dia,',end=' ')\n",
        "print('Augusto!')"
      ]
    },
    {
      "cell_type": "code",
      "execution_count": 12,
      "metadata": {
        "colab": {
          "base_uri": "https://localhost:8080/"
        },
        "id": "pFOEpLwnLRET",
        "outputId": "745042db-4492-462a-b994-b96d81f8afba"
      },
      "outputs": [
        {
          "output_type": "stream",
          "name": "stdout",
          "text": [
            "Bom dia,-----Augusto!\n"
          ]
        }
      ],
      "source": [
        "print('Bom dia,',end='-----')\n",
        "print('Augusto!')"
      ]
    },
    {
      "cell_type": "markdown",
      "metadata": {
        "id": "2HIB8wWLLRET"
      },
      "source": [
        "### Entrada de Dados\n",
        "\n",
        "A entrada de dados serve para que o usuário forneça valores para o programa.\n",
        "\n",
        "Os valores fornecidos pelo usuário podem ser armazenados em variáveis, por exemplo:"
      ]
    },
    {
      "cell_type": "code",
      "execution_count": 16,
      "metadata": {
        "colab": {
          "base_uri": "https://localhost:8080/"
        },
        "id": "VZPOW41PLREU",
        "outputId": "25ed28eb-eecc-43a2-fe1c-24c847da8c45"
      },
      "outputs": [
        {
          "output_type": "stream",
          "name": "stdout",
          "text": [
            "Digite o seu nome: Rodrigo\n",
            "Bom dia, Rodrigo!\n"
          ]
        }
      ],
      "source": [
        "nome = input('Digite o seu nome: ')\n",
        "print(f'Bom dia, {nome}!')"
      ]
    },
    {
      "cell_type": "markdown",
      "metadata": {
        "id": "Kw6wsrM0LREU"
      },
      "source": [
        "O comando `input` sempre lê o valor digitado como uma string."
      ]
    },
    {
      "cell_type": "code",
      "execution_count": 13,
      "metadata": {
        "colab": {
          "base_uri": "https://localhost:8080/"
        },
        "id": "Inmuw8R5LREU",
        "outputId": "6fe53c2e-76b9-46b0-e7ce-49add07023a9"
      },
      "outputs": [
        {
          "output_type": "stream",
          "name": "stdout",
          "text": [
            "Digite o primeiro operando: 1\n",
            "Digite o segundo operando: 2\n",
            "O resultado é 12\n"
          ]
        }
      ],
      "source": [
        "operando1 = input('Digite o primeiro operando: ')\n",
        "operando2 = input('Digite o segundo operando: ')\n",
        "resultado = operando1 + operando2\n",
        "print(f'O resultado é {resultado}')"
      ]
    },
    {
      "cell_type": "markdown",
      "metadata": {
        "id": "ipIpmXB8LREV"
      },
      "source": [
        "Se você testar o tipo de `operando1` e `operando2`:"
      ]
    },
    {
      "cell_type": "code",
      "execution_count": 14,
      "metadata": {
        "colab": {
          "base_uri": "https://localhost:8080/"
        },
        "id": "KAXGytYVLREV",
        "outputId": "5438542c-b82a-4405-c951-3e9e7a7dc317"
      },
      "outputs": [
        {
          "output_type": "execute_result",
          "data": {
            "text/plain": [
              "str"
            ]
          },
          "metadata": {},
          "execution_count": 14
        }
      ],
      "source": [
        "type(operando1)"
      ]
    },
    {
      "cell_type": "code",
      "execution_count": 15,
      "metadata": {
        "colab": {
          "base_uri": "https://localhost:8080/"
        },
        "id": "wzopSTm5LREV",
        "outputId": "2e07e09b-5076-4a75-c73d-739d7c50dd42"
      },
      "outputs": [
        {
          "output_type": "execute_result",
          "data": {
            "text/plain": [
              "str"
            ]
          },
          "metadata": {},
          "execution_count": 15
        }
      ],
      "source": [
        "type(operando2)"
      ]
    },
    {
      "cell_type": "markdown",
      "metadata": {
        "id": "JKCPVdccLREW"
      },
      "source": [
        "Para efetuar a leitura de valores int e float, temos que forçar a conversão: "
      ]
    },
    {
      "cell_type": "code",
      "execution_count": 18,
      "metadata": {
        "colab": {
          "base_uri": "https://localhost:8080/"
        },
        "id": "9AZ3wRctLREW",
        "outputId": "e8017f0c-5369-48b9-d1bd-4a4856e35912"
      },
      "outputs": [
        {
          "output_type": "stream",
          "name": "stdout",
          "text": [
            "Digite o primeiro operando: 2\n",
            "Digite o segundo operando:3\n",
            "O resultado é 5.0\n"
          ]
        }
      ],
      "source": [
        "operando1 = int(input('Digite o primeiro operando: '))\n",
        "operando2 = float(input('Digite o segundo operando:'))\n",
        "resultado = operando1 + operando2\n",
        "print(f'O resultado é {resultado}')"
      ]
    },
    {
      "cell_type": "markdown",
      "metadata": {
        "id": "9toYv6l6LREW"
      },
      "source": [
        "### Exercício\n",
        "Escreva um programa que pede o nome e a idade (`int`) e peso (`float`) de uma pessoa e imprime uma mensagem com tais informações. O peso tem que ser impresso com duas casas decimais (utilize pontos como separador decimal).\n",
        "- *Ex: José, 25 anos, pesa 72,18 kg!*"
      ]
    },
    {
      "cell_type": "code",
      "execution_count": 19,
      "metadata": {
        "tags": [],
        "colab": {
          "base_uri": "https://localhost:8080/"
        },
        "id": "um5GzgNqLREW",
        "outputId": "93fa0611-c885-4e47-9387-e052514046f3"
      },
      "outputs": [
        {
          "output_type": "stream",
          "name": "stdout",
          "text": [
            "Digite o seu nome: Rodrigo\n",
            "Digite a sua idade: 44\n",
            "Digite o seu peso: 120\n",
            "Rodrigo, 44 anos, pesa 120.00\n"
          ]
        }
      ],
      "source": [
        "nome = input('Digite o seu nome: ')\n",
        "idade = int(input('Digite a sua idade: '))\n",
        "peso = float(input('Digite o seu peso: '))\n",
        "print(f'{nome}, {idade} anos, pesa {peso:.2f}')"
      ]
    }
  ],
  "metadata": {
    "kernelspec": {
      "display_name": "Python 3.10.8 64-bit",
      "language": "python",
      "name": "python3"
    },
    "language_info": {
      "codemirror_mode": {
        "name": "ipython",
        "version": 3
      },
      "file_extension": ".py",
      "mimetype": "text/x-python",
      "name": "python",
      "nbconvert_exporter": "python",
      "pygments_lexer": "ipython3",
      "version": "3.10.8"
    },
    "toc": {
      "base_numbering": 1,
      "nav_menu": {},
      "number_sections": true,
      "sideBar": true,
      "skip_h1_title": false,
      "title_cell": "Table of Contents",
      "title_sidebar": "Contents",
      "toc_cell": false,
      "toc_position": {},
      "toc_section_display": true,
      "toc_window_display": false
    },
    "vscode": {
      "interpreter": {
        "hash": "949777d72b0d2535278d3dc13498b2535136f6dfe0678499012e853ee9abcab1"
      }
    },
    "colab": {
      "provenance": []
    }
  },
  "nbformat": 4,
  "nbformat_minor": 0
}