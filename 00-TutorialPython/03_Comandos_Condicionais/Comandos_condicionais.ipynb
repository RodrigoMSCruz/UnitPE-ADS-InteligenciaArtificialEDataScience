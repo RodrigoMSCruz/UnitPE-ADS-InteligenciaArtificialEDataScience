{
  "cells": [
    {
      "cell_type": "markdown",
      "metadata": {
        "id": "3pTYhvej_m-3"
      },
      "source": [
        "# Operadores Lógicos e Relacionais, Comandos Condicionais\n",
        "\n",
        "## Operadores Relacionais\n",
        "\n",
        "<img src=\"./imgs/operadoresRelacionais.png\" width=\"400\" />\n",
        "\n",
        "---\n",
        "\n",
        "## Operadores Lógicos e Booleanos\n",
        "\n",
        "<img src=\"./imgs/operadoresLogicos.png\" width=\"400\" />\n",
        "\n",
        "---\n",
        "\n",
        "## Tabela Verdade\n",
        "\n",
        "<img src=\"./imgs/tabelaVerdade.png\" width=\"600\" />\n",
        "\n",
        "Teste o valor de _b_ e _c_ em cada passo:\n"
      ]
    },
    {
      "cell_type": "code",
      "execution_count": 2,
      "metadata": {
        "colab": {
          "base_uri": "https://localhost:8080/"
        },
        "id": "Z9YUziox_m-6",
        "outputId": "1b7a6bec-cf4f-49b6-aea0-61a806f40bb3"
      },
      "outputs": [
        {
          "output_type": "stream",
          "name": "stdout",
          "text": [
            "False\n",
            "False\n",
            "True\n",
            "True\n",
            "True\n",
            "True\n"
          ]
        }
      ],
      "source": [
        "b = True\n",
        "c = not b  # b = T; c = F\n",
        "print(c)\n",
        "c = not (True or b) and c  # b = T; c = F\n",
        "print(c)\n",
        "b = c or not(not b)  # b = T; c = F\n",
        "print(b)\n",
        "b = True or False  # b = T; c = F\n",
        "print(b)\n",
        "c = True and b  # b = T; c = T\n",
        "print(c)\n",
        "b = b == c  # b = T; c = T\n",
        "print(b)"
      ]
    },
    {
      "cell_type": "markdown",
      "metadata": {
        "id": "T9xfSid0_m-9"
      },
      "source": [
        "## Abreviação de Operadores Aritméticos de Atribuição\n"
      ]
    },
    {
      "cell_type": "code",
      "execution_count": 3,
      "metadata": {
        "colab": {
          "base_uri": "https://localhost:8080/"
        },
        "id": "IiCzHssI_m-_",
        "outputId": "b0fd1bab-a0b6-4133-f79a-8b7fa8268134"
      },
      "outputs": [
        {
          "output_type": "stream",
          "name": "stdout",
          "text": [
            "7\n"
          ]
        }
      ],
      "source": [
        "a = 5\n",
        "a += 2\n",
        "print(a)"
      ]
    },
    {
      "cell_type": "markdown",
      "metadata": {
        "id": "02r_MLWw_m_A"
      },
      "source": [
        "Cheque a execução do código abaixo. Deu tudo certo?\n"
      ]
    },
    {
      "cell_type": "code",
      "execution_count": 7,
      "metadata": {
        "colab": {
          "base_uri": "https://localhost:8080/"
        },
        "id": "sNSR3R07_m_B",
        "outputId": "335502a6-2dd1-4063-e011-85587f426abb"
      },
      "outputs": [
        {
          "output_type": "stream",
          "name": "stdout",
          "text": [
            "6\n"
          ]
        }
      ],
      "source": [
        "a = 5\n",
        "a +=1\n",
        "print(a)"
      ]
    },
    {
      "cell_type": "markdown",
      "metadata": {
        "id": "VqdbDitt_m_C"
      },
      "source": [
        "Python **não** utiliza o abreviador de incremento `++` e decremento `--` como em outras linguagens, que fazem uso de operações como `for (int i = 0; i < 10; i++)`. Ao invés disso, em operações desse tipo, Python utiliza o comando a seguir, que veremos mais adiante.\n"
      ]
    },
    {
      "cell_type": "code",
      "execution_count": 6,
      "metadata": {
        "colab": {
          "base_uri": "https://localhost:8080/"
        },
        "id": "3ud70S9t_m_D",
        "outputId": "facb69e5-0857-4385-e420-77c4f3696ef6"
      },
      "outputs": [
        {
          "output_type": "stream",
          "name": "stdout",
          "text": [
            "0\n",
            "1\n",
            "2\n",
            "3\n",
            "4\n",
            "5\n",
            "6\n",
            "7\n",
            "8\n",
            "9\n"
          ]
        }
      ],
      "source": [
        "for i in range(0, 10):\n",
        "    print(i)"
      ]
    },
    {
      "cell_type": "markdown",
      "metadata": {
        "id": "aXc84UK2_m_E"
      },
      "source": [
        "## Precedência de Operadores\n",
        "\n",
        "Assim como aprendemos em nossas aulas de matemática, as expressões a seguir são equivalente e avaliam para 14\n"
      ]
    },
    {
      "cell_type": "code",
      "execution_count": 8,
      "metadata": {
        "colab": {
          "base_uri": "https://localhost:8080/"
        },
        "id": "Qb2hzXvn_m_F",
        "outputId": "087f4a54-2bf2-4b8a-d147-50fd387ed486"
      },
      "outputs": [
        {
          "output_type": "stream",
          "name": "stdout",
          "text": [
            "expr1 = 14\n",
            "expr2 = 20\n"
          ]
        }
      ],
      "source": [
        "expr1 = 2 + 3 * 4\n",
        "expr2 = (2 + 3) * 4\n",
        "print(f'expr1 = {expr1}')\n",
        "print(f'expr2 = {expr2}')"
      ]
    },
    {
      "cell_type": "markdown",
      "metadata": {
        "id": "HKL3wU9T_m_G"
      },
      "source": [
        "As linguagens de programação definem uma ordem de avaliação dos operadores, também conhecida como precedência de operadores. Em Python, a ordem de precedência é definida como segue, sendo a **exponenciação** com maior precedência e o **booleano `or`** com menor precedência:\n",
        "\n",
        "1. `**` : Exponenciação\n",
        "2. `+x`, `-x` : Positivo, Negativo\n",
        "3. `*`, `/`, `//`, `%` : Multiplicação, Divisão, Divisão inteira e resto\n",
        "4. `+`, `-` : Adição e subtração\n",
        "5. `<`, `<=`, `>`, `>=`, `!=`, `==`\n",
        "6. `not` : Boolean NOT\n",
        "7. `and` : Boolean AND\n",
        "8. `or` : Boolean OR\n"
      ]
    },
    {
      "cell_type": "markdown",
      "metadata": {
        "id": "s0vmh95p_m_H"
      },
      "source": [
        "O uso de parênteses para definir a precedência de operadores possui duas vantagens:\n",
        "\n",
        "1. Torna o programa mais legível, pois não requer conhecimento prévio sobre a precedência de operadores em Python\n",
        "\n",
        "   `2 + (3 * 4)`\n",
        "\n",
        "2. Permite modificar a ordem de precedência\n",
        "\n",
        "   `(2 + 3) * 4`\n"
      ]
    },
    {
      "cell_type": "markdown",
      "metadata": {
        "id": "5WjVcj9a_m_I"
      },
      "source": [
        "## Expressões Lógicas/Booleanas\n",
        "\n",
        "Estruturas de controle (seleção e repetição) utilizam expressões booleanas para decidir:\n",
        "\n",
        "1. Qual bloco de comandos será executado:\n",
        "\n",
        "```python\n",
        "if EXPRESSAO_BOOLEANA_1:\n",
        "    # bloco 1\n",
        "elif EXPRESSAO_BOOLEANA_2:\n",
        "    # bloco 2\n",
        "else:\n",
        "    # bloco 3\n",
        "```\n",
        "\n",
        "2. Se o bloco de comandos deverá ser repetido:\n",
        "\n",
        "```python\n",
        "while EXPRESSAO_BOOLEANA:\n",
        "    # bloco\n",
        "```\n",
        "\n",
        "## Comando IF-ELSE\n",
        "\n",
        "<img  src=\"./imgs/comandoIf.png\" width=\"600\" />\n",
        "\n",
        "Vamos escrever um programa que faz a leitura de três números inteiros e imprime o maior dos três.\n"
      ]
    },
    {
      "cell_type": "code",
      "execution_count": 10,
      "metadata": {
        "colab": {
          "base_uri": "https://localhost:8080/"
        },
        "id": "PCy9iGai_m_J",
        "outputId": "01fa625b-a505-430b-893d-1f131c8a527f"
      },
      "outputs": [
        {
          "output_type": "stream",
          "name": "stdout",
          "text": [
            "Digite o primeiro número: 10\n",
            "Digite o segundo número: 1\n",
            "Digite o terceiro número: 9\n",
            "10\n"
          ]
        }
      ],
      "source": [
        "numero_1 = int(input('Digite o primeiro número: '))\n",
        "numero_2 = int(input('Digite o segundo número: '))\n",
        "numero_3 = int(input('Digite o terceiro número: '))\n",
        "maior = numero_1\n",
        "\n",
        "if numero_2 > maior:\n",
        "  maior = numero_2\n",
        "\n",
        "if numero_3 > maior:\n",
        "  maior = numero_3\n",
        "\n",
        "print(maior)"
      ]
    },
    {
      "cell_type": "markdown",
      "metadata": {
        "id": "W-zWJEkR_m_K"
      },
      "source": [
        "### Exercício\n",
        "\n",
        "Escreva um programa para ler um valor real correspondente a uma nota, tal que 0 ≤ nota ≤ 10, e imprimir o conceito equivalente (A, B, C, D ou E), conforme a seguinte tabela:\n",
        "\n",
        "<img  src=\"./imgs/tabelaAula04.png\" width=\"250\" />\n"
      ]
    },
    {
      "cell_type": "code",
      "execution_count": 13,
      "metadata": {
        "colab": {
          "base_uri": "https://localhost:8080/"
        },
        "id": "HFBIUYEb_m_K",
        "outputId": "eff4bc37-90ac-4ddb-d231-c1778c2fd365"
      },
      "outputs": [
        {
          "output_type": "stream",
          "name": "stdout",
          "text": [
            "Digite uma nota(valor real) entre 0-10: 1.9\n",
            "O conceito é E.\n"
          ]
        }
      ],
      "source": [
        "nota = float(input('Digite uma nota(valor real) entre 0-10: '))\n",
        "if(8.5 <= nota <= 10.0):\n",
        "  conceito = \"A\"\n",
        "if(7.0 <= nota < 8.5):\n",
        "  conceito = \"B\"\n",
        "if(5.0 <= nota < 7.0):\n",
        "  conceito = \"C\"\n",
        "if(3.0 <=nota <5.0):\n",
        "  conceito = \"D\"\n",
        "if(nota < 3.0):\n",
        "  conceito = \"E\"\n",
        "print(f'O conceito é {conceito}.')"
      ]
    },
    {
      "cell_type": "markdown",
      "metadata": {
        "id": "ykeZQvqZ_m_L"
      },
      "source": [
        "### Coerção de Tipos\n",
        "\n",
        "É possível converter um valor de um tipo em outro tipo, desde que faça sentido. Por exemplo, não faria sentido converter a string “Rui” para inteiro. Por outro lado, faria sentido converter a string \"3\" em um valor inteiro.\n",
        "\n",
        "Seguem alguns exemplos de funções que podem ser usadas para fazer converções de valores de um tipo para outro tipo.\n"
      ]
    },
    {
      "cell_type": "code",
      "execution_count": null,
      "metadata": {
        "id": "-xqjot5W_m_M"
      },
      "outputs": [],
      "source": [
        "x = int('Rui')"
      ]
    },
    {
      "cell_type": "markdown",
      "metadata": {
        "id": "fFXgUQF6_m_N"
      },
      "source": [
        "_________________"
      ]
    },
    {
      "cell_type": "markdown",
      "metadata": {
        "id": "DdrCDxV-_m_N"
      },
      "source": [
        "### Exercício 1\n",
        "\n",
        "Escreva um programa para ler dois valores reais, x e y, correspondentes às coordenadas de um ponto no plano e dizer em que quadrante se encontra, ou se está no eixo-x ou no eixo-y ou se está na origem.\n",
        "\n",
        "<center><img  src=\"./imgs/coordenadas.png\" width=\"150\" /></center>\n"
      ]
    },
    {
      "cell_type": "code",
      "execution_count": 20,
      "metadata": {
        "colab": {
          "base_uri": "https://localhost:8080/"
        },
        "id": "cwrIpOIO_m_O",
        "outputId": "d7e616c4-1c1d-4f79-ef70-3f8a1cf73fa7"
      },
      "outputs": [
        {
          "output_type": "stream",
          "name": "stdout",
          "text": [
            "Digite um valor inteiro para X: 10\n",
            "Digite um valor inteiro para Y: -1\n",
            "O ponto está no quadrante 4\n"
          ]
        }
      ],
      "source": [
        "x = int(input('Digite um valor inteiro para X: '))\n",
        "y = int(input('Digite um valor inteiro para Y: '))\n",
        "if(x == y == 0):\n",
        "  print('O ponto está na origem.')\n",
        "elif(x == 0):\n",
        "  print('O ponto está no eixo X.')\n",
        "elif(y == 0):\n",
        "  print('O ponto está no eixo Y.')\n",
        "elif((x > 0 and y > 0)):\n",
        "  print('O ponto está no quadrante 1')\n",
        "elif((x < 0 and y > 0)):\n",
        "  print('O ponto está no quadrante 2')\n",
        "elif((x < 0 and y < 0)):\n",
        "  print('O ponto está no quadrante 3')\n",
        "else:\n",
        "  print('O ponto está no quadrante 4')"
      ]
    },
    {
      "cell_type": "markdown",
      "metadata": {
        "id": "GuDRgmiG_m_O"
      },
      "source": [
        "### Exercício 2\n",
        "\n",
        "Escreva um programa para ler valores para os três lados de um triângulo e dizer o seu tipo (equilátero, isósceles ou escaleno).\n"
      ]
    },
    {
      "cell_type": "code",
      "execution_count": 25,
      "metadata": {
        "colab": {
          "base_uri": "https://localhost:8080/"
        },
        "id": "rvyt3iyu_m_P",
        "outputId": "82ee3fe7-a303-4a79-a74b-c47310878f0f"
      },
      "outputs": [
        {
          "output_type": "stream",
          "name": "stdout",
          "text": [
            "Digite o valor do lado A(inteiro): 3\n",
            "Digite o valor do lado B(inteiro): 6\n",
            "Digite o valor do lado C(inteiro): 9\n",
            "O triângulo é escaleno\n"
          ]
        }
      ],
      "source": [
        "lado_a = int(input('Digite o valor do lado A(inteiro): '))\n",
        "lado_b = int(input('Digite o valor do lado B(inteiro): '))\n",
        "lado_c = int(input('Digite o valor do lado C(inteiro): '))\n",
        "\n",
        "if(lado_a == lado_b == lado_c):\n",
        "  print('O triângulo é equilátero.')\n",
        "elif((lado_a == lado_b) or (lado_a == lado_c) or (lado_b == lado_c)):\n",
        "  print('O triângulo é isósceles.')\n",
        "else:\n",
        "  print('O triângulo é escaleno')"
      ]
    },
    {
      "cell_type": "markdown",
      "metadata": {
        "id": "ok5jjNJD_m_P"
      },
      "source": [
        "### Exercício 3\n",
        "\n",
        "Escreva um programa para ler dois valores reais, correspondentes ao peso e à altura de uma pessoa, e calcular o Índice de Massa Corporal (IMC), pela fórmula:\n",
        "\n",
        "$$\\text{IMC} = \\frac{\\text{peso}}{\\text{altura}^2}$$\n",
        "\n",
        "Em seguida, imprima a mensagem conforme a seguinte tabela:\n",
        "\n",
        "<center><img src=\"./imgs/tabela-imc.png\" width=\"300\" /></center>\n"
      ]
    },
    {
      "cell_type": "code",
      "execution_count": null,
      "metadata": {
        "id": "qm7HKC3J_m_P"
      },
      "outputs": [],
      "source": [
        "peso = float(input('Digite o peso:'))\n",
        "altura = float(input('Digite a altura:'))\n",
        "imc = (peso / altura**2)\n",
        "\n",
        "if(imc<=18.5):\n",
        "  print('Abaixo do peso.')\n",
        "if(18.5< imc<=25):\n",
        "  print('Peso normal.')\n",
        "if(25 < imc <= 30):\n",
        "  print('Acima do peso')\n",
        "if(30 < imc):\n",
        "  print('Obeso.')"
      ]
    }
  ],
  "metadata": {
    "kernelspec": {
      "display_name": "Python 3.10.8 64-bit",
      "language": "python",
      "name": "python3"
    },
    "language_info": {
      "codemirror_mode": {
        "name": "ipython",
        "version": 3
      },
      "file_extension": ".py",
      "mimetype": "text/x-python",
      "name": "python",
      "nbconvert_exporter": "python",
      "pygments_lexer": "ipython3",
      "version": "3.10.8"
    },
    "toc": {
      "base_numbering": 1,
      "nav_menu": {},
      "number_sections": true,
      "sideBar": true,
      "skip_h1_title": false,
      "title_cell": "Table of Contents",
      "title_sidebar": "Contents",
      "toc_cell": false,
      "toc_position": {},
      "toc_section_display": true,
      "toc_window_display": false
    },
    "vscode": {
      "interpreter": {
        "hash": "949777d72b0d2535278d3dc13498b2535136f6dfe0678499012e853ee9abcab1"
      }
    },
    "colab": {
      "provenance": []
    }
  },
  "nbformat": 4,
  "nbformat_minor": 0
}