{
  "cells": [
    {
      "cell_type": "markdown",
      "metadata": {
        "id": "yCl3bzqVP9bc"
      },
      "source": [
        "# Laços de Repetição (Loops)\n",
        "\n",
        "## O comando `while`\n",
        "\n",
        "A execução das instruções no bloco de comandos é repetida enquanto uma condição (EXP_BOOL) for verdadeira.\n",
        "\n",
        "<img  src=\"./imgs/while.png\" width=\"600\" />\n",
        "\n",
        "Vamos ver um exemplo."
      ]
    },
    {
      "cell_type": "code",
      "execution_count": null,
      "metadata": {
        "id": "29s4qcmHP9bf"
      },
      "outputs": [],
      "source": [
        "resp = input('Deseja continuar?\\n')\n",
        "\n",
        "while( (resp != 'sim') and ( resp != 'não')):\n",
        "    print('Resposta inválida!!!')\n",
        "    resp = input('Deseja continuar?\\n')\n",
        "else:\n",
        "    if(resp == 'sim'):\n",
        "        print('Ok! Vamos continuar.')\n",
        "    else:\n",
        "        print('Obrigado e até logo!')"
      ]
    },
    {
      "cell_type": "markdown",
      "metadata": {
        "id": "39OtmM6MP9bh"
      },
      "source": [
        "#### Exercício - Adivinhe o número sorteado\n",
        "<img  src=\"./imagens/sorteio.png\" align=\"right\" width=\"100\" />\n",
        "\n",
        "Sua tarefa é criar um jogo que vai sortear um número entre 0 e 100 e perguntar ao jogador qual foi o número sorteado.  \n",
        "\n",
        "Caso ele chute um número maior, você dá uma dica, informando que ele deve tentar um número menor e faz o inverso, caso ele digite um número menor.  \n",
        "\n",
        "O programa só termina quando o jogador acertar.\n",
        "\n",
        "utilize a função `randint` para gerar um número aleatório. Veja como ela funciona:"
      ]
    },
    {
      "cell_type": "code",
      "execution_count": null,
      "metadata": {
        "id": "IkMGmPIvP9bi"
      },
      "outputs": [],
      "source": [
        "from random import randint\n",
        "\n",
        "# gera número inteiro aleatório entre 0 e 100\n",
        "num = randint(0,100)\n"
      ]
    },
    {
      "cell_type": "markdown",
      "metadata": {
        "id": "MSzdnNvGP9bj"
      },
      "source": [
        "#### Solução"
      ]
    },
    {
      "cell_type": "code",
      "execution_count": null,
      "metadata": {
        "id": "MI-tcJcvP9bk"
      },
      "outputs": [],
      "source": [
        "from random import randint\n",
        "\n",
        "# gera número inteiro aleatório entre 0 e 100\n",
        "num = randint(0,100)\n",
        "continua = True\n",
        "\n",
        "while(continua):\n",
        "  jogador = int(input('Tente adivinhar o número que sorteei(0-100): '))\n",
        "  if(jogador > num):\n",
        "    print('Errou! O número que escolhi é menor!')\n",
        "  elif(jogador < num):\n",
        "    print('Errou! O número que escolhi é maior!')\n",
        "  else:\n",
        "    print(f'Acertou! O número que escolhi foi {num}!')\n",
        "    continua = False\n",
        "#}"
      ]
    },
    {
      "cell_type": "markdown",
      "metadata": {
        "id": "BiNQaiJiP9bl"
      },
      "source": [
        "#### Exercício - Números Ímpares\n",
        "Faça um programa para:\n",
        "- Ler um número inteiro maior que zero e menor que 100\n",
        "- Imprimir todos os números ímpares seguintes até 100 (separados por “,” e o último finaliza com um ‘“.”)\n",
        "\n",
        "**Obs:** *O Operador `%` calcula o módulo da divisão:*"
      ]
    },
    {
      "cell_type": "code",
      "execution_count": null,
      "metadata": {
        "id": "B5-FZkFXP9bm"
      },
      "outputs": [],
      "source": [
        "10%2"
      ]
    },
    {
      "cell_type": "code",
      "execution_count": null,
      "metadata": {
        "id": "OmJovC2OP9bn"
      },
      "outputs": [],
      "source": [
        "11%2"
      ]
    },
    {
      "cell_type": "markdown",
      "metadata": {
        "id": "fKs3AnZlP9bp"
      },
      "source": [
        "##### Solução"
      ]
    },
    {
      "cell_type": "code",
      "execution_count": null,
      "metadata": {
        "colab": {
          "base_uri": "https://localhost:8080/"
        },
        "id": "610_XAfZP9bq",
        "outputId": "52a61552-5e5c-40f9-9866-b69bea823b43"
      },
      "outputs": [
        {
          "output_type": "stream",
          "name": "stdout",
          "text": [
            "Digite um número inteiro maior que 0 e menor que 100: 50\n",
            "51, 53, 55, 57, 59, 61, 63, 65, 67, 69, 71, 73, 75, 77, 79, 81, 83, 85, 87, 89, 91, 93, 95, 97, 99, "
          ]
        }
      ],
      "source": [
        "num = 0\n",
        "while ((num < 1) or (num > 99)):\n",
        "  num = int(input('Digite um número inteiro maior que 0 e menor que 100: '))\n",
        "\n",
        "for i in range(num, 100, 1):\n",
        "  if(i % 2 != 0):\n",
        "    print(i, end=', ')"
      ]
    },
    {
      "cell_type": "markdown",
      "metadata": {
        "id": "4an4Z83XP9br"
      },
      "source": [
        "Melhore seu programa, fazendo com que ele continue pedindo o número inteiro positivo enquanto o usuário não digitar um número maior que zero.\n",
        "\n",
        "##### Solução"
      ]
    },
    {
      "cell_type": "code",
      "execution_count": null,
      "metadata": {
        "colab": {
          "base_uri": "https://localhost:8080/"
        },
        "id": "_uBNXv8eP9br",
        "outputId": "78d81fd1-b6c8-4060-9cbb-f6bacb5b628a"
      },
      "outputs": [
        {
          "output_type": "stream",
          "name": "stdout",
          "text": [
            "Digite um número inteiro maior que 0 e menor que 100: 2\n",
            "3, 5, 7, 9, 11, 13, 15, 17, 19, 21, 23, 25, 27, 29, 31, 33, 35, 37, 39, 41, 43, 45, 47, 49, 51, 53, 55, 57, 59, 61, 63, 65, 67, 69, 71, 73, 75, 77, 79, 81, 83, 85, 87, 89, 91, 93, 95, 97, 99."
          ]
        }
      ],
      "source": [
        "num = 0\n",
        "while ((num < 1) or (num > 99)):\n",
        "  num = int(input('Digite um número inteiro maior que 0 e menor que 100: '))\n",
        "\n",
        "for i in range(num, 99, 1):\n",
        "  if(i % 2 != 0):\n",
        "    print(i, end=', ')\n",
        "else:\n",
        "    print(99, end='.')"
      ]
    },
    {
      "cell_type": "markdown",
      "metadata": {
        "id": "80j1XoiDP9bs"
      },
      "source": [
        "#### Exercício - Multiplicação com while\n",
        "Implemente um programa em Python para realizar uma operação de multiplicação através de múltiplas operações de soma.\n",
        "\n",
        "##### Solução"
      ]
    },
    {
      "cell_type": "code",
      "execution_count": null,
      "metadata": {
        "id": "S40f8FMXP9bt",
        "colab": {
          "base_uri": "https://localhost:8080/"
        },
        "outputId": "31c4de40-897d-40d7-8884-5633e91c14c9"
      },
      "outputs": [
        {
          "output_type": "stream",
          "name": "stdout",
          "text": [
            "Digite um número: 10\n",
            "Digite outro número: 10\n",
            "Resultado da multiplicação  10 * 10 é: 100\n"
          ]
        }
      ],
      "source": [
        "num1 = int(input('Digite um número: ')) \n",
        "num2 = int(input('Digite outro número: '))\n",
        "multiplica = 0\n",
        "vezes = 1\n",
        "\n",
        "while(vezes <= num2):\n",
        "  multiplica = multiplica + num1\n",
        "  vezes = vezes + 1\n",
        "print(f'Resultado da multiplicação {num1} * {num2} é: {multiplica}')"
      ]
    },
    {
      "cell_type": "markdown",
      "metadata": {
        "id": "1gvZdBLrP9bt"
      },
      "source": [
        "### Lista de Números\n",
        "\n",
        "Uma lista de números é uma coleção de valores numéricos armazenados em uma variável. Vamos ver um exemplo."
      ]
    },
    {
      "cell_type": "code",
      "execution_count": null,
      "metadata": {
        "id": "nFyCTWuJP9bu"
      },
      "outputs": [],
      "source": [
        "lista_num = [1, 2, 3, 4]\n",
        "print(lista_num)"
      ]
    },
    {
      "cell_type": "markdown",
      "metadata": {
        "id": "dQK1_IX5P9bu"
      },
      "source": [
        "Por enquanto, é só o que precisamos saber para avançarmos no curso.\n",
        "Falaremos em detalhes sobre listas mais adiante!\n",
        "\n",
        "### A função `range`\n",
        "\n",
        "A função `range` foi criada para gerar uma lista de números.\n",
        "\n",
        "**range(start, stop, step)**\n",
        "- start - início da sequência (opcional; default -> 0)\n",
        "- stop - último elemento da sequência (obrigatório)\n",
        "- step - intervalo entre os elementos (opcional; default -> 1)\n",
        "\n",
        "Vamos ver alguns exemplos:"
      ]
    },
    {
      "cell_type": "code",
      "execution_count": null,
      "metadata": {
        "id": "mNdQsxZnP9bv",
        "colab": {
          "base_uri": "https://localhost:8080/"
        },
        "outputId": "a8d7750b-c6ec-48d6-bf35-7ef3c832e51b"
      },
      "outputs": [
        {
          "output_type": "execute_result",
          "data": {
            "text/plain": [
              "[0, 1, 2, 3, 4]"
            ]
          },
          "metadata": {},
          "execution_count": 5
        }
      ],
      "source": [
        "list(range(5))"
      ]
    },
    {
      "cell_type": "code",
      "execution_count": null,
      "metadata": {
        "id": "wJtffsw5P9bv",
        "colab": {
          "base_uri": "https://localhost:8080/"
        },
        "outputId": "f1033b6c-8d99-461f-d80d-6664d904757d"
      },
      "outputs": [
        {
          "output_type": "execute_result",
          "data": {
            "text/plain": [
              "[1, 3]"
            ]
          },
          "metadata": {},
          "execution_count": 6
        }
      ],
      "source": [
        "list(range(1,5,2))"
      ]
    },
    {
      "cell_type": "code",
      "execution_count": null,
      "metadata": {
        "id": "1RB6J7b5P9bw",
        "colab": {
          "base_uri": "https://localhost:8080/"
        },
        "outputId": "ad3a93e1-4008-4915-fa2d-eb92c0059183"
      },
      "outputs": [
        {
          "output_type": "execute_result",
          "data": {
            "text/plain": [
              "[1, 3, 5]"
            ]
          },
          "metadata": {},
          "execution_count": 7
        }
      ],
      "source": [
        "list(range(1,6,2))"
      ]
    },
    {
      "cell_type": "code",
      "execution_count": null,
      "metadata": {
        "id": "tebPdAzsP9bw",
        "colab": {
          "base_uri": "https://localhost:8080/"
        },
        "outputId": "9813f42d-73e0-4afc-e29a-0be5e686d494"
      },
      "outputs": [
        {
          "output_type": "execute_result",
          "data": {
            "text/plain": [
              "[5, 4, 3, 2]"
            ]
          },
          "metadata": {},
          "execution_count": 8
        }
      ],
      "source": [
        "list(range(5,1,-1))"
      ]
    },
    {
      "cell_type": "code",
      "execution_count": null,
      "metadata": {
        "id": "qjuYnlIHP9bx",
        "colab": {
          "base_uri": "https://localhost:8080/"
        },
        "outputId": "0bd3968b-adf6-4f56-f26e-6cb8fb9a0441"
      },
      "outputs": [
        {
          "output_type": "execute_result",
          "data": {
            "text/plain": [
              "[1, 2, 3, 4]"
            ]
          },
          "metadata": {},
          "execution_count": 9
        }
      ],
      "source": [
        "list(range(1,5))"
      ]
    },
    {
      "cell_type": "markdown",
      "metadata": {
        "id": "jg7HajLxP9bx"
      },
      "source": [
        "### O comando `for` \n",
        "\n",
        "De maneira similar ao `while` o comando `for` repete um bloco de comandos.\n",
        "\t\t\n",
        "O comando `for` é indicado para situações em que se sabe antecipadamente o número de repetições que serão executadas.\n",
        "\n",
        "O `for` possui a seguinte estrutura:\n",
        "\n",
        "<img  src=\"./imgs/for.png\" width=\"400\" />\n",
        "\n",
        "O exemplo a seguir, executará o comando print(i), com i variando de 1 até 5. Em seguida, imprime Fim."
      ]
    },
    {
      "cell_type": "code",
      "execution_count": null,
      "metadata": {
        "id": "s9WyiqUfP9by",
        "outputId": "820a18dc-f378-4d9a-fb5c-885ba9968308"
      },
      "outputs": [
        {
          "name": "stdout",
          "output_type": "stream",
          "text": [
            "1\n",
            "2\n",
            "3\n",
            "4\n",
            "Fim\n"
          ]
        }
      ],
      "source": [
        "for i in range(1,5):\n",
        "    print(i)\n",
        "else:\n",
        "    print('Fim')"
      ]
    },
    {
      "cell_type": "markdown",
      "metadata": {
        "id": "sk8heIQNP9bz"
      },
      "source": [
        "#### Exercício - Ímpares com o comando `for`\n",
        "\n",
        "Faça um programa que use o comando `for` para:\n",
        "1. Ler um número inteiro maior que zero e menor que 100\n",
        "2. Imprimir todos os números ímpares seguintes até 100   \n",
        "    (separados por “,” e o último finaliza com um ‘“.”)\n"
      ]
    },
    {
      "cell_type": "code",
      "execution_count": null,
      "metadata": {
        "id": "rvpgZEnfP9b0",
        "colab": {
          "base_uri": "https://localhost:8080/"
        },
        "outputId": "62cc56a0-d141-4c82-9681-f02576009558"
      },
      "outputs": [
        {
          "output_type": "stream",
          "name": "stdout",
          "text": [
            "Digite um número inteiro maior que 0 e menor que 100: 49\n",
            "49, 51, 53, 55, 57, 59, 61, 63, 65, 67, 69, 71, 73, 75, 77, 79, 81, 83, 85, 87, 89, 91, 93, 95, 97, 99."
          ]
        }
      ],
      "source": [
        "num = 0\n",
        "while ((num < 1) or (num > 99)):\n",
        "  num = int(input('Digite um número inteiro maior que 0 e menor que 100: '))\n",
        "\n",
        "for i in range(num, 99, 1):\n",
        "  if(i % 2 != 0):\n",
        "    print(i, end=', ')\n",
        "else:\n",
        "    print(99, end='.')"
      ]
    },
    {
      "cell_type": "markdown",
      "metadata": {
        "id": "PFia1j7lP9b0"
      },
      "source": [
        "<img  src=\"./imgs/migracao.png\" width=\"500\" />\n",
        "\n",
        "Chegou a época de migração. Animais de diferentes tamanhos caminham entre duas localizações geográficas. Ambientalistas precisam calcular o esforço feito por cada animal durante a migração.\n",
        "\n",
        "\n",
        "Seu programa vai ler:\n",
        "1. nome do animal\n",
        "2. distância a ser percorrida (valor inteiro, em cm)\n",
        "3. tamanho do passo do animal (valor inteiro, em cm)\n",
        "\n",
        "No final, imprime uma mensagem, informando quantos passos o animal precisará dar para chegar ao destino.\n",
        "\n",
        "Use o comando for para calcular o número de passos.\n",
        "\n",
        "**Dica:** utilize a função `range`\n",
        "\n",
        "**range(start, stop, step)**\n",
        "- start - início da sequência (opcional; default -> 0)\n",
        "- stop - último elemento da sequência (obrigatório)\n",
        "- step - intervalo entre os elementos (opcional; default -> 1)\n",
        "\n"
      ]
    },
    {
      "cell_type": "code",
      "execution_count": null,
      "metadata": {
        "id": "nOpu_GJTP9b1",
        "colab": {
          "base_uri": "https://localhost:8080/"
        },
        "outputId": "575bbd22-40e3-447a-aa87-efec8362da15"
      },
      "outputs": [
        {
          "output_type": "stream",
          "name": "stdout",
          "text": [
            "Digite o nome do animal: Precioso\n",
            "Digite a distância a ser percorrida por Precioso(Valor inteiro, em cm): 100\n",
            "Digite o tamanho da passada de Precioso(Valor inteiro, em cm): 10\n",
            "Precioso dará 10 passos em sua jornada\n"
          ]
        }
      ],
      "source": [
        "nome_animal = input('Digite o nome do animal: ')\n",
        "distancia = int(input(f'Digite a distância a ser percorrida por {nome_animal}(Valor inteiro, em cm): '))\n",
        "passada = int(input(f'Digite o tamanho da passada de {nome_animal}(Valor inteiro, em cm): '))\n",
        "passos = 0\n",
        "for i in range(0, distancia, passada):\n",
        "  passos = passos + 1\n",
        "print(f'{nome_animal} dará {passos} passos em sua jornada.')"
      ]
    },
    {
      "cell_type": "markdown",
      "metadata": {
        "id": "I8bgewdJP9b1"
      },
      "source": [
        "### Comando `for` com dois índices\n",
        "\n",
        "E se desejarmos variar dois índices em um comando for?\n",
        "\n",
        "<img  src=\"./imgs/for_dois_indices.png\" width=\"200\" />\n",
        "\n",
        "A solução é usar uma lista de tuplas:"
      ]
    },
    {
      "cell_type": "code",
      "execution_count": null,
      "metadata": {
        "id": "nrcgYZkPP9b2",
        "colab": {
          "base_uri": "https://localhost:8080/"
        },
        "outputId": "4684e47e-f013-4fb1-fa3d-cdc8df5f175c"
      },
      "outputs": [
        {
          "output_type": "stream",
          "name": "stdout",
          "text": [
            "5\n",
            "12\n",
            "21\n",
            "Fim\n"
          ]
        }
      ],
      "source": [
        "for i, j in [(1,5),(2,6),(3,7)]:\n",
        "    print(i * j)\n",
        "else:\n",
        "    print(\"Fim\")"
      ]
    },
    {
      "cell_type": "markdown",
      "metadata": {
        "id": "ORd_x9RzP9b2"
      },
      "source": [
        "`i` será associado ao 1º item da tupla  \n",
        "`j` será assocido ao 2º item da tupla \n",
        "\n",
        "Uma maneira mais prática utiliza a função `zip`, que recebe duas ou mais listas e cria uma lista de tuplas do tamanho da menor lista recebida."
      ]
    },
    {
      "cell_type": "code",
      "execution_count": null,
      "metadata": {
        "id": "hSzvEcl6P9b3",
        "colab": {
          "base_uri": "https://localhost:8080/"
        },
        "outputId": "579a91d1-a6f4-464e-e3c2-9921a3862e6b"
      },
      "outputs": [
        {
          "output_type": "execute_result",
          "data": {
            "text/plain": [
              "[(1, 5), (2, 6), (3, 7)]"
            ]
          },
          "metadata": {},
          "execution_count": 15
        }
      ],
      "source": [
        "ij = zip(range(1,4),range(5,8))\n",
        "list(ij)"
      ]
    },
    {
      "cell_type": "code",
      "execution_count": null,
      "metadata": {
        "id": "BMmKuOyzP9b3"
      },
      "outputs": [],
      "source": [
        "ijz = zip(range(1,4),range(5,8),range(1,40))\n",
        "list(ijz)"
      ]
    },
    {
      "cell_type": "markdown",
      "metadata": {
        "id": "i2mHYcgCP9b4"
      },
      "source": [
        "Os códigos a seguir fazem a mesma coisa:"
      ]
    },
    {
      "cell_type": "code",
      "execution_count": null,
      "metadata": {
        "id": "JXpltKuUP9b4",
        "colab": {
          "base_uri": "https://localhost:8080/"
        },
        "outputId": "c06f6b57-44b7-4ab8-eec9-a302e3243828"
      },
      "outputs": [
        {
          "output_type": "stream",
          "name": "stdout",
          "text": [
            "5\n",
            "12\n",
            "21\n",
            "Fim\n"
          ]
        }
      ],
      "source": [
        "for i, j in [(1,5),(2,6),(3,7)]:\n",
        "    print(i * j)\n",
        "else:\n",
        "    print('Fim')"
      ]
    },
    {
      "cell_type": "code",
      "execution_count": null,
      "metadata": {
        "id": "_A47r4vrP9b4",
        "colab": {
          "base_uri": "https://localhost:8080/"
        },
        "outputId": "5d0414ee-8d62-4adf-921b-f9617e9899a7"
      },
      "outputs": [
        {
          "output_type": "stream",
          "name": "stdout",
          "text": [
            "5\n",
            "12\n",
            "21\n",
            "Fim\n"
          ]
        }
      ],
      "source": [
        "for i, j in zip([1,2,3],[5,6,7]):\n",
        "    print(i * j)\n",
        "else:\n",
        "    print('Fim')"
      ]
    },
    {
      "cell_type": "code",
      "execution_count": null,
      "metadata": {
        "id": "B6Acwij8P9b5",
        "colab": {
          "base_uri": "https://localhost:8080/"
        },
        "outputId": "f4ab0b26-1544-4fe0-e050-92aba2c53ce5"
      },
      "outputs": [
        {
          "output_type": "stream",
          "name": "stdout",
          "text": [
            "5\n",
            "12\n",
            "21\n",
            "Fim\n"
          ]
        }
      ],
      "source": [
        "for i, j in zip(range(1,4),range(5,8)):\n",
        "    print(i * j)\n",
        "else:\n",
        "    print('Fim')"
      ]
    },
    {
      "cell_type": "markdown",
      "metadata": {
        "id": "7P3YLLOnP9b5"
      },
      "source": [
        "### Comando `break`\n",
        "\n",
        "Causa uma interrupção imediata do laço, continuando a execução do programa na próxima linha após o laço. \n",
        "\n",
        "O programa a seguir verifica uma senha, que pode conter qualquer símbolo, menos @"
      ]
    },
    {
      "cell_type": "code",
      "execution_count": null,
      "metadata": {
        "id": "LEqnCCOmP9b5",
        "colab": {
          "base_uri": "https://localhost:8080/"
        },
        "outputId": "a043c125-e327-400f-e302-eb1172d82048"
      },
      "outputs": [
        {
          "output_type": "stream",
          "name": "stdout",
          "text": [
            "Letra permitida s\n",
            "Letra permitida e\n",
            "Letra permitida n\n",
            "Letra permitida h\n",
            "Falhou no teste\n"
          ]
        }
      ],
      "source": [
        "senha = 'senh@ errada'\n",
        "\n",
        "for i in range(0,len(senha)):\n",
        "    if senha[i] == '@':\n",
        "       print('Falhou no teste') \n",
        "       break\n",
        "    print(f'Letra permitida {senha[i]}')\n",
        "else:\n",
        "    print('Passou no teste')"
      ]
    },
    {
      "cell_type": "markdown",
      "metadata": {
        "id": "Et6RSNYEP9b6"
      },
      "source": [
        "Note que o `else` não foi executado, pois a execução do `for` for interrompida."
      ]
    },
    {
      "cell_type": "code",
      "execution_count": null,
      "metadata": {
        "id": "XTfu8Rd_P9b6",
        "colab": {
          "base_uri": "https://localhost:8080/"
        },
        "outputId": "8ae5e399-13f6-4a96-b10e-7682e9d50af7"
      },
      "outputs": [
        {
          "output_type": "stream",
          "name": "stdout",
          "text": [
            "Letra permitida s\n",
            "Letra permitida e\n",
            "Letra permitida n\n",
            "Letra permitida h\n",
            "Letra permitida a\n",
            "Letra permitida  \n",
            "Letra permitida c\n",
            "Letra permitida o\n",
            "Letra permitida r\n",
            "Letra permitida r\n",
            "Letra permitida e\n",
            "Letra permitida t\n",
            "Letra permitida a\n",
            "Passou no teste\n"
          ]
        }
      ],
      "source": [
        "senha = 'senha correta'\n",
        "\n",
        "for i in range(0,len(senha)):\n",
        "    if senha[i] == '@':\n",
        "       print('Falhou no teste') \n",
        "       break\n",
        "    print(f'Letra permitida {senha[i]}')\n",
        "else:\n",
        "    print('Passou no teste')"
      ]
    },
    {
      "cell_type": "markdown",
      "metadata": {
        "id": "7wyAlK3fP9b7"
      },
      "source": [
        "### O comando `continue`\n",
        "\n",
        "Quando é executado, o laço volta para o teste de condição do laço de repetição. \n",
        "\n",
        "**obs:** pode ser substituído por um comando `if` simples.\n",
        "\n",
        "Em que situação o programa não vai imprimir 10 números?"
      ]
    },
    {
      "cell_type": "code",
      "execution_count": 1,
      "metadata": {
        "id": "0wWdDl1KP9b7",
        "colab": {
          "base_uri": "https://localhost:8080/"
        },
        "outputId": "87c9f547-b35a-4b03-d010-85d7d8583519"
      },
      "outputs": [
        {
          "output_type": "stream",
          "name": "stdout",
          "text": [
            "-0.1\n",
            "-0.2\n",
            "-1.0\n",
            "0.2\n",
            "-0.2\n",
            "0.125\n",
            "0.5\n",
            "-1.0\n",
            "-0.5\n",
            "-0.1\n"
          ]
        }
      ],
      "source": [
        "import random \n",
        "\n",
        "for i in range(10): \n",
        "    x = random.randint(-10,10) \n",
        "    # evita a divisão por zero\n",
        "    if x == 0: \n",
        "        continue \n",
        "    print (1/x)"
      ]
    },
    {
      "cell_type": "markdown",
      "metadata": {
        "id": "4-KxJKMvP9b7"
      },
      "source": [
        "Tente responder os exercícios a seguir usando comandos de repetição `for` e `while`, quando for possível.\n",
        "\n",
        "#### Exercício 1 - Fatorial\n",
        "\n",
        "<img  src=\"./imgs/exercicio_for1.png\" width=\"360\" />"
      ]
    },
    {
      "cell_type": "code",
      "execution_count": null,
      "metadata": {
        "id": "JbzY-DunP9b7",
        "colab": {
          "base_uri": "https://localhost:8080/"
        },
        "outputId": "41b2d6e5-9dbc-404a-f699-633e472ead26"
      },
      "outputs": [
        {
          "output_type": "stream",
          "name": "stdout",
          "text": [
            "Digite um valor inteiro maior que 0: 5\n",
            "Fatorial de 5 é: 120\n"
          ]
        }
      ],
      "source": [
        "while(True):\n",
        "  num = int(input('Digite um valor inteiro maior que 0: '))\n",
        "  if(num == 0):\n",
        "    print('ERRO! Digite um valor inteiro maior que 0!')\n",
        "  else:\n",
        "    break\n",
        "  #else\n",
        "#while\n",
        "\n",
        "if(num == 1):\n",
        "  print('Fatorial de 1 é: 1')\n",
        "#if\n",
        "else:\n",
        "  fatorial = 1\n",
        "  for x in range((num), 0, -1):\n",
        "    fatorial = fatorial * x\n",
        "  #for\n",
        "  print(f'Fatorial de {num} é: {fatorial}')\n",
        "#else"
      ]
    },
    {
      "cell_type": "markdown",
      "metadata": {
        "id": "2Pz8mUTnP9b7"
      },
      "source": [
        "\n",
        "#### Exercício 2 - Série 1\n",
        "\n",
        "<img  src=\"./imgs/exercicio_for2.png\" width=\"320\" />"
      ]
    },
    {
      "cell_type": "code",
      "execution_count": 4,
      "metadata": {
        "id": "T4HJX2ShP9b7",
        "colab": {
          "base_uri": "https://localhost:8080/"
        },
        "outputId": "40741e23-3ba8-434b-949e-6b999286a321"
      },
      "outputs": [
        {
          "output_type": "stream",
          "name": "stdout",
          "text": [
            "Digite um valor inteiro positivo: 3\n",
            "Somatório: 14.\n"
          ]
        }
      ],
      "source": [
        "while(True):\n",
        "  n = int(input('Digite um valor inteiro positivo: '))\n",
        "  if n > 0:\n",
        "    break\n",
        "  else:\n",
        "    print('ERRO! Digite um valor inteiro positivo, por favor!')\n",
        "  #if\n",
        "#while\n",
        "\n",
        "somatorio = 0\n",
        "for i in range(1, n+1, 1):\n",
        "  somatorio = somatorio + i**2\n",
        "#for\n",
        "print(f'Somatório: {somatorio}.')\n"
      ]
    },
    {
      "cell_type": "markdown",
      "metadata": {
        "id": "Y7IUcMJ_P9b7"
      },
      "source": [
        "\n",
        "#### Exercício 3 - Quadrados e Cubos\n",
        "\n",
        "<img  src=\"./imgs/exercicio_for3.png\" width=\"500\" />"
      ]
    },
    {
      "cell_type": "code",
      "execution_count": 8,
      "metadata": {
        "id": "xaePFx8YP9b8",
        "colab": {
          "base_uri": "https://localhost:8080/"
        },
        "outputId": "20046c51-f9eb-4ee2-cbdf-bb2d726d18d5"
      },
      "outputs": [
        {
          "output_type": "stream",
          "name": "stdout",
          "text": [
            "Number Square  Cube\n",
            "0      0        0\n",
            "1      1        1\n",
            "2      4        8\n",
            "3      9        27\n",
            "4      16        64\n",
            "5      25        125\n",
            "6      36        216\n",
            "7      49        343\n",
            "8      64        512\n",
            "9      81        729\n",
            "10      100        1000\n"
          ]
        }
      ],
      "source": [
        "number = squar = cube = 0\n",
        "print('Number Square  Cube')\n",
        "for i in range(0, 11, 1):\n",
        "  number = i\n",
        "  square = i**2\n",
        "  cube = i**3\n",
        "  print(f'{number}      {square}        {cube}')\n",
        "#for"
      ]
    },
    {
      "cell_type": "markdown",
      "metadata": {
        "id": "mmAor7gdP9b8"
      },
      "source": [
        "\n",
        "#### Exercício 4 - Série 2\n",
        "\n",
        "<img  src=\"./imgs/exercicio_for4.png\" width=\"450\" />"
      ]
    },
    {
      "cell_type": "code",
      "execution_count": null,
      "metadata": {
        "id": "VMv9yRv3P9b8"
      },
      "outputs": [],
      "source": []
    }
  ],
  "metadata": {
    "kernelspec": {
      "display_name": "Python 3.10.8 64-bit",
      "language": "python",
      "name": "python3"
    },
    "language_info": {
      "codemirror_mode": {
        "name": "ipython",
        "version": 3
      },
      "file_extension": ".py",
      "mimetype": "text/x-python",
      "name": "python",
      "nbconvert_exporter": "python",
      "pygments_lexer": "ipython3",
      "version": "3.10.8"
    },
    "toc": {
      "base_numbering": 1,
      "nav_menu": {},
      "number_sections": true,
      "sideBar": true,
      "skip_h1_title": false,
      "title_cell": "Table of Contents",
      "title_sidebar": "Contents",
      "toc_cell": false,
      "toc_position": {},
      "toc_section_display": true,
      "toc_window_display": false
    },
    "vscode": {
      "interpreter": {
        "hash": "949777d72b0d2535278d3dc13498b2535136f6dfe0678499012e853ee9abcab1"
      }
    },
    "colab": {
      "provenance": []
    }
  },
  "nbformat": 4,
  "nbformat_minor": 0
}