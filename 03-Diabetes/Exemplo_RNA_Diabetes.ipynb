{
  "nbformat": 4,
  "nbformat_minor": 0,
  "metadata": {
    "colab": {
      "provenance": []
    },
    "kernelspec": {
      "name": "python3",
      "display_name": "Python 3"
    },
    "language_info": {
      "name": "python"
    }
  },
  "cells": [
    {
      "cell_type": "code",
      "execution_count": 2,
      "metadata": {
        "id": "6RO10JesO4Le"
      },
      "outputs": [],
      "source": [
        "import numpy as np\n",
        "import pandas as pd\n",
        "from keras.models import Sequential\n",
        "from keras.layers import Dense, Dropout\n",
        "from sklearn.model_selection import train_test_split\n",
        "from sklearn.metrics import classification_report\n",
        "from sklearn.preprocessing import StandardScaler\n",
        "\n",
        "col_names = ['gestações', 'glicose', 'pressão sanguínea', 'espessura da pele', 'insulina', 'IMC', 'função pedigree', 'idade', 'diagnostico']\n",
        "# load dataset\n",
        "pima = pd.read_csv(\"diabetes.csv\", header=None, names=col_names)"
      ]
    },
    {
      "cell_type": "code",
      "source": [
        "from google.colab import drive\n",
        "drive.mount('/content/drive')"
      ],
      "metadata": {
        "id": "HmkHeu_hcYVA",
        "colab": {
          "base_uri": "https://localhost:8080/"
        },
        "outputId": "527840b0-6764-43e8-9484-b3bc3e219d3d"
      },
      "execution_count": 3,
      "outputs": [
        {
          "output_type": "stream",
          "name": "stdout",
          "text": [
            "Mounted at /content/drive\n"
          ]
        }
      ]
    },
    {
      "cell_type": "code",
      "source": [
        "pima.head()"
      ],
      "metadata": {
        "colab": {
          "base_uri": "https://localhost:8080/",
          "height": 206
        },
        "id": "RseeoZTnW6W6",
        "outputId": "559c86f6-b1f5-4ec9-87d4-fb1766aab785"
      },
      "execution_count": 4,
      "outputs": [
        {
          "output_type": "execute_result",
          "data": {
            "text/plain": [
              "   gestações  glicose  pressão sanguínea  espessura da pele  insulina   IMC  \\\n",
              "0          6      148                 72                 35         0  33.6   \n",
              "1          1       85                 66                 29         0  26.6   \n",
              "2          8      183                 64                  0         0  23.3   \n",
              "3          1       89                 66                 23        94  28.1   \n",
              "4          0      137                 40                 35       168  43.1   \n",
              "\n",
              "   função pedigree  idade  diagnostico  \n",
              "0            0.627     50            1  \n",
              "1            0.351     31            0  \n",
              "2            0.672     32            1  \n",
              "3            0.167     21            0  \n",
              "4            2.288     33            1  "
            ],
            "text/html": [
              "\n",
              "  <div id=\"df-5253fbff-98db-4006-9721-4cfcbadddeb7\">\n",
              "    <div class=\"colab-df-container\">\n",
              "      <div>\n",
              "<style scoped>\n",
              "    .dataframe tbody tr th:only-of-type {\n",
              "        vertical-align: middle;\n",
              "    }\n",
              "\n",
              "    .dataframe tbody tr th {\n",
              "        vertical-align: top;\n",
              "    }\n",
              "\n",
              "    .dataframe thead th {\n",
              "        text-align: right;\n",
              "    }\n",
              "</style>\n",
              "<table border=\"1\" class=\"dataframe\">\n",
              "  <thead>\n",
              "    <tr style=\"text-align: right;\">\n",
              "      <th></th>\n",
              "      <th>gestações</th>\n",
              "      <th>glicose</th>\n",
              "      <th>pressão sanguínea</th>\n",
              "      <th>espessura da pele</th>\n",
              "      <th>insulina</th>\n",
              "      <th>IMC</th>\n",
              "      <th>função pedigree</th>\n",
              "      <th>idade</th>\n",
              "      <th>diagnostico</th>\n",
              "    </tr>\n",
              "  </thead>\n",
              "  <tbody>\n",
              "    <tr>\n",
              "      <th>0</th>\n",
              "      <td>6</td>\n",
              "      <td>148</td>\n",
              "      <td>72</td>\n",
              "      <td>35</td>\n",
              "      <td>0</td>\n",
              "      <td>33.6</td>\n",
              "      <td>0.627</td>\n",
              "      <td>50</td>\n",
              "      <td>1</td>\n",
              "    </tr>\n",
              "    <tr>\n",
              "      <th>1</th>\n",
              "      <td>1</td>\n",
              "      <td>85</td>\n",
              "      <td>66</td>\n",
              "      <td>29</td>\n",
              "      <td>0</td>\n",
              "      <td>26.6</td>\n",
              "      <td>0.351</td>\n",
              "      <td>31</td>\n",
              "      <td>0</td>\n",
              "    </tr>\n",
              "    <tr>\n",
              "      <th>2</th>\n",
              "      <td>8</td>\n",
              "      <td>183</td>\n",
              "      <td>64</td>\n",
              "      <td>0</td>\n",
              "      <td>0</td>\n",
              "      <td>23.3</td>\n",
              "      <td>0.672</td>\n",
              "      <td>32</td>\n",
              "      <td>1</td>\n",
              "    </tr>\n",
              "    <tr>\n",
              "      <th>3</th>\n",
              "      <td>1</td>\n",
              "      <td>89</td>\n",
              "      <td>66</td>\n",
              "      <td>23</td>\n",
              "      <td>94</td>\n",
              "      <td>28.1</td>\n",
              "      <td>0.167</td>\n",
              "      <td>21</td>\n",
              "      <td>0</td>\n",
              "    </tr>\n",
              "    <tr>\n",
              "      <th>4</th>\n",
              "      <td>0</td>\n",
              "      <td>137</td>\n",
              "      <td>40</td>\n",
              "      <td>35</td>\n",
              "      <td>168</td>\n",
              "      <td>43.1</td>\n",
              "      <td>2.288</td>\n",
              "      <td>33</td>\n",
              "      <td>1</td>\n",
              "    </tr>\n",
              "  </tbody>\n",
              "</table>\n",
              "</div>\n",
              "      <button class=\"colab-df-convert\" onclick=\"convertToInteractive('df-5253fbff-98db-4006-9721-4cfcbadddeb7')\"\n",
              "              title=\"Convert this dataframe to an interactive table.\"\n",
              "              style=\"display:none;\">\n",
              "        \n",
              "  <svg xmlns=\"http://www.w3.org/2000/svg\" height=\"24px\"viewBox=\"0 0 24 24\"\n",
              "       width=\"24px\">\n",
              "    <path d=\"M0 0h24v24H0V0z\" fill=\"none\"/>\n",
              "    <path d=\"M18.56 5.44l.94 2.06.94-2.06 2.06-.94-2.06-.94-.94-2.06-.94 2.06-2.06.94zm-11 1L8.5 8.5l.94-2.06 2.06-.94-2.06-.94L8.5 2.5l-.94 2.06-2.06.94zm10 10l.94 2.06.94-2.06 2.06-.94-2.06-.94-.94-2.06-.94 2.06-2.06.94z\"/><path d=\"M17.41 7.96l-1.37-1.37c-.4-.4-.92-.59-1.43-.59-.52 0-1.04.2-1.43.59L10.3 9.45l-7.72 7.72c-.78.78-.78 2.05 0 2.83L4 21.41c.39.39.9.59 1.41.59.51 0 1.02-.2 1.41-.59l7.78-7.78 2.81-2.81c.8-.78.8-2.07 0-2.86zM5.41 20L4 18.59l7.72-7.72 1.47 1.35L5.41 20z\"/>\n",
              "  </svg>\n",
              "      </button>\n",
              "      \n",
              "  <style>\n",
              "    .colab-df-container {\n",
              "      display:flex;\n",
              "      flex-wrap:wrap;\n",
              "      gap: 12px;\n",
              "    }\n",
              "\n",
              "    .colab-df-convert {\n",
              "      background-color: #E8F0FE;\n",
              "      border: none;\n",
              "      border-radius: 50%;\n",
              "      cursor: pointer;\n",
              "      display: none;\n",
              "      fill: #1967D2;\n",
              "      height: 32px;\n",
              "      padding: 0 0 0 0;\n",
              "      width: 32px;\n",
              "    }\n",
              "\n",
              "    .colab-df-convert:hover {\n",
              "      background-color: #E2EBFA;\n",
              "      box-shadow: 0px 1px 2px rgba(60, 64, 67, 0.3), 0px 1px 3px 1px rgba(60, 64, 67, 0.15);\n",
              "      fill: #174EA6;\n",
              "    }\n",
              "\n",
              "    [theme=dark] .colab-df-convert {\n",
              "      background-color: #3B4455;\n",
              "      fill: #D2E3FC;\n",
              "    }\n",
              "\n",
              "    [theme=dark] .colab-df-convert:hover {\n",
              "      background-color: #434B5C;\n",
              "      box-shadow: 0px 1px 3px 1px rgba(0, 0, 0, 0.15);\n",
              "      filter: drop-shadow(0px 1px 2px rgba(0, 0, 0, 0.3));\n",
              "      fill: #FFFFFF;\n",
              "    }\n",
              "  </style>\n",
              "\n",
              "      <script>\n",
              "        const buttonEl =\n",
              "          document.querySelector('#df-5253fbff-98db-4006-9721-4cfcbadddeb7 button.colab-df-convert');\n",
              "        buttonEl.style.display =\n",
              "          google.colab.kernel.accessAllowed ? 'block' : 'none';\n",
              "\n",
              "        async function convertToInteractive(key) {\n",
              "          const element = document.querySelector('#df-5253fbff-98db-4006-9721-4cfcbadddeb7');\n",
              "          const dataTable =\n",
              "            await google.colab.kernel.invokeFunction('convertToInteractive',\n",
              "                                                     [key], {});\n",
              "          if (!dataTable) return;\n",
              "\n",
              "          const docLinkHtml = 'Like what you see? Visit the ' +\n",
              "            '<a target=\"_blank\" href=https://colab.research.google.com/notebooks/data_table.ipynb>data table notebook</a>'\n",
              "            + ' to learn more about interactive tables.';\n",
              "          element.innerHTML = '';\n",
              "          dataTable['output_type'] = 'display_data';\n",
              "          await google.colab.output.renderOutput(dataTable, element);\n",
              "          const docLink = document.createElement('div');\n",
              "          docLink.innerHTML = docLinkHtml;\n",
              "          element.appendChild(docLink);\n",
              "        }\n",
              "      </script>\n",
              "    </div>\n",
              "  </div>\n",
              "  "
            ]
          },
          "metadata": {},
          "execution_count": 4
        }
      ]
    },
    {
      "cell_type": "code",
      "source": [
        "#split dataset in features and target variable\n",
        "feature_cols = ['gestações', 'glicose', 'pressão sanguínea', 'espessura da pele', 'insulina', 'IMC', 'função pedigree', 'idade']\n",
        "X = pima[feature_cols] # Features\n",
        "y = pima.diagnostico # Target variable"
      ],
      "metadata": {
        "id": "O4HQwVpJXmg2"
      },
      "execution_count": 5,
      "outputs": []
    },
    {
      "cell_type": "markdown",
      "source": [
        "# Nova seção"
      ],
      "metadata": {
        "id": "cGM5ty8Cc5Lu"
      }
    },
    {
      "cell_type": "code",
      "source": [
        "# Normalizar os dados\n",
        "scaler = StandardScaler()\n",
        "X = scaler.fit_transform(X)\n",
        "\n"
      ],
      "metadata": {
        "id": "l-BQBtklXrKi"
      },
      "execution_count": 9,
      "outputs": []
    },
    {
      "cell_type": "code",
      "source": [
        "# Dividir os dados em conjuntos de treinamento e teste\n",
        "X_train, X_test, y_train, y_test = train_test_split(X, y, test_size=0.3, random_state=42)\n",
        "\n",
        "y_test.shape"
      ],
      "metadata": {
        "colab": {
          "base_uri": "https://localhost:8080/"
        },
        "id": "6BZSiIg4baTk",
        "outputId": "63663486-ba45-4bd1-f841-88c896b9612f"
      },
      "execution_count": 10,
      "outputs": [
        {
          "output_type": "execute_result",
          "data": {
            "text/plain": [
              "(231,)"
            ]
          },
          "metadata": {},
          "execution_count": 10
        }
      ]
    },
    {
      "cell_type": "code",
      "source": [
        "# Criar o modelo da rede neural\n",
        "model = Sequential()\n",
        "model.add(Dense(8, input_dim=X_train.shape[1], activation='relu')) # Original: 16\n",
        "model.add(Dropout(0.4)) # Original: 0.2 - Melhor: 0.4\n",
        "model.add(Dense(6, activation='relu')) # Original: 4 - Melhor: 6\n",
        "model.add(Dropout(0.4)) # Original: 0.2 - Melhor: 0.4\n",
        "model.add(Dense(1, activation='sigmoid')) # Original: 1\n",
        "\n",
        "# Compilar o modelo\n",
        "model.compile(loss='binary_crossentropy', optimizer='adam', metrics=['accuracy'])\n",
        "\n",
        "# Treinar o modelo\n",
        "model.fit(X_train, y_train, epochs=100, batch_size=32, validation_data=(X_test, y_test))\n",
        "\n",
        "# Avaliar o modelo\n",
        "score = model.evaluate(X_test, y_test, verbose=0)\n",
        "print(f'Test loss: {score[0]}')\n",
        "print(f'Test accuracy: {score[1]}')"
      ],
      "metadata": {
        "colab": {
          "base_uri": "https://localhost:8080/"
        },
        "id": "zYtesYZWQMiV",
        "outputId": "32cc4760-9d04-4eeb-c2f0-813e5186d397"
      },
      "execution_count": 55,
      "outputs": [
        {
          "output_type": "stream",
          "name": "stdout",
          "text": [
            "Epoch 1/100\n",
            "17/17 [==============================] - 1s 15ms/step - loss: 0.8266 - accuracy: 0.5587 - val_loss: 0.6939 - val_accuracy: 0.6320\n",
            "Epoch 2/100\n",
            "17/17 [==============================] - 0s 5ms/step - loss: 0.7854 - accuracy: 0.6145 - val_loss: 0.6731 - val_accuracy: 0.6407\n",
            "Epoch 3/100\n",
            "17/17 [==============================] - 0s 4ms/step - loss: 0.7361 - accuracy: 0.6052 - val_loss: 0.6577 - val_accuracy: 0.6537\n",
            "Epoch 4/100\n",
            "17/17 [==============================] - 0s 6ms/step - loss: 0.7450 - accuracy: 0.6145 - val_loss: 0.6442 - val_accuracy: 0.6623\n",
            "Epoch 5/100\n",
            "17/17 [==============================] - 0s 5ms/step - loss: 0.7095 - accuracy: 0.6387 - val_loss: 0.6341 - val_accuracy: 0.6667\n",
            "Epoch 6/100\n",
            "17/17 [==============================] - 0s 5ms/step - loss: 0.7081 - accuracy: 0.6276 - val_loss: 0.6267 - val_accuracy: 0.6753\n",
            "Epoch 7/100\n",
            "17/17 [==============================] - 0s 5ms/step - loss: 0.7090 - accuracy: 0.6238 - val_loss: 0.6197 - val_accuracy: 0.6710\n",
            "Epoch 8/100\n",
            "17/17 [==============================] - 0s 5ms/step - loss: 0.6669 - accuracy: 0.6443 - val_loss: 0.6147 - val_accuracy: 0.6710\n",
            "Epoch 9/100\n",
            "17/17 [==============================] - 0s 5ms/step - loss: 0.6702 - accuracy: 0.6499 - val_loss: 0.6102 - val_accuracy: 0.6753\n",
            "Epoch 10/100\n",
            "17/17 [==============================] - 0s 5ms/step - loss: 0.6757 - accuracy: 0.6555 - val_loss: 0.6057 - val_accuracy: 0.6710\n",
            "Epoch 11/100\n",
            "17/17 [==============================] - 0s 5ms/step - loss: 0.6743 - accuracy: 0.6462 - val_loss: 0.6021 - val_accuracy: 0.6753\n",
            "Epoch 12/100\n",
            "17/17 [==============================] - 0s 5ms/step - loss: 0.6395 - accuracy: 0.6369 - val_loss: 0.5985 - val_accuracy: 0.6710\n",
            "Epoch 13/100\n",
            "17/17 [==============================] - 0s 5ms/step - loss: 0.6256 - accuracy: 0.6723 - val_loss: 0.5954 - val_accuracy: 0.6753\n",
            "Epoch 14/100\n",
            "17/17 [==============================] - 0s 5ms/step - loss: 0.6442 - accuracy: 0.6778 - val_loss: 0.5922 - val_accuracy: 0.6883\n",
            "Epoch 15/100\n",
            "17/17 [==============================] - 0s 5ms/step - loss: 0.6282 - accuracy: 0.6667 - val_loss: 0.5892 - val_accuracy: 0.6883\n",
            "Epoch 16/100\n",
            "17/17 [==============================] - 0s 5ms/step - loss: 0.6394 - accuracy: 0.6834 - val_loss: 0.5860 - val_accuracy: 0.6840\n",
            "Epoch 17/100\n",
            "17/17 [==============================] - 0s 5ms/step - loss: 0.6312 - accuracy: 0.6536 - val_loss: 0.5831 - val_accuracy: 0.6970\n",
            "Epoch 18/100\n",
            "17/17 [==============================] - 0s 6ms/step - loss: 0.6157 - accuracy: 0.6723 - val_loss: 0.5803 - val_accuracy: 0.6883\n",
            "Epoch 19/100\n",
            "17/17 [==============================] - 0s 7ms/step - loss: 0.6149 - accuracy: 0.6778 - val_loss: 0.5778 - val_accuracy: 0.6926\n",
            "Epoch 20/100\n",
            "17/17 [==============================] - 0s 5ms/step - loss: 0.6013 - accuracy: 0.6834 - val_loss: 0.5744 - val_accuracy: 0.6926\n",
            "Epoch 21/100\n",
            "17/17 [==============================] - 0s 5ms/step - loss: 0.6124 - accuracy: 0.6797 - val_loss: 0.5720 - val_accuracy: 0.6970\n",
            "Epoch 22/100\n",
            "17/17 [==============================] - 0s 5ms/step - loss: 0.6374 - accuracy: 0.6685 - val_loss: 0.5700 - val_accuracy: 0.6970\n",
            "Epoch 23/100\n",
            "17/17 [==============================] - 0s 5ms/step - loss: 0.5828 - accuracy: 0.6927 - val_loss: 0.5680 - val_accuracy: 0.7013\n",
            "Epoch 24/100\n",
            "17/17 [==============================] - 0s 5ms/step - loss: 0.6074 - accuracy: 0.6816 - val_loss: 0.5658 - val_accuracy: 0.7100\n",
            "Epoch 25/100\n",
            "17/17 [==============================] - 0s 5ms/step - loss: 0.5863 - accuracy: 0.6927 - val_loss: 0.5629 - val_accuracy: 0.7056\n",
            "Epoch 26/100\n",
            "17/17 [==============================] - 0s 5ms/step - loss: 0.5821 - accuracy: 0.6965 - val_loss: 0.5604 - val_accuracy: 0.6926\n",
            "Epoch 27/100\n",
            "17/17 [==============================] - 0s 6ms/step - loss: 0.5893 - accuracy: 0.6834 - val_loss: 0.5582 - val_accuracy: 0.7013\n",
            "Epoch 28/100\n",
            "17/17 [==============================] - 0s 6ms/step - loss: 0.5718 - accuracy: 0.7020 - val_loss: 0.5557 - val_accuracy: 0.7100\n",
            "Epoch 29/100\n",
            "17/17 [==============================] - 0s 5ms/step - loss: 0.6009 - accuracy: 0.7095 - val_loss: 0.5536 - val_accuracy: 0.7143\n",
            "Epoch 30/100\n",
            "17/17 [==============================] - 0s 5ms/step - loss: 0.5984 - accuracy: 0.6946 - val_loss: 0.5521 - val_accuracy: 0.7143\n",
            "Epoch 31/100\n",
            "17/17 [==============================] - 0s 5ms/step - loss: 0.5813 - accuracy: 0.6816 - val_loss: 0.5506 - val_accuracy: 0.7359\n",
            "Epoch 32/100\n",
            "17/17 [==============================] - 0s 4ms/step - loss: 0.5590 - accuracy: 0.7393 - val_loss: 0.5473 - val_accuracy: 0.7532\n",
            "Epoch 33/100\n",
            "17/17 [==============================] - 0s 5ms/step - loss: 0.5667 - accuracy: 0.7002 - val_loss: 0.5448 - val_accuracy: 0.7576\n",
            "Epoch 34/100\n",
            "17/17 [==============================] - 0s 5ms/step - loss: 0.5931 - accuracy: 0.6983 - val_loss: 0.5426 - val_accuracy: 0.7532\n",
            "Epoch 35/100\n",
            "17/17 [==============================] - 0s 5ms/step - loss: 0.5892 - accuracy: 0.6946 - val_loss: 0.5407 - val_accuracy: 0.7532\n",
            "Epoch 36/100\n",
            "17/17 [==============================] - 0s 4ms/step - loss: 0.5885 - accuracy: 0.6927 - val_loss: 0.5399 - val_accuracy: 0.7532\n",
            "Epoch 37/100\n",
            "17/17 [==============================] - 0s 6ms/step - loss: 0.5560 - accuracy: 0.7039 - val_loss: 0.5386 - val_accuracy: 0.7532\n",
            "Epoch 38/100\n",
            "17/17 [==============================] - 0s 6ms/step - loss: 0.5542 - accuracy: 0.7095 - val_loss: 0.5367 - val_accuracy: 0.7532\n",
            "Epoch 39/100\n",
            "17/17 [==============================] - 0s 4ms/step - loss: 0.5560 - accuracy: 0.7076 - val_loss: 0.5348 - val_accuracy: 0.7532\n",
            "Epoch 40/100\n",
            "17/17 [==============================] - 0s 5ms/step - loss: 0.5642 - accuracy: 0.6927 - val_loss: 0.5334 - val_accuracy: 0.7532\n",
            "Epoch 41/100\n",
            "17/17 [==============================] - 0s 6ms/step - loss: 0.5845 - accuracy: 0.7114 - val_loss: 0.5319 - val_accuracy: 0.7532\n",
            "Epoch 42/100\n",
            "17/17 [==============================] - 0s 6ms/step - loss: 0.5599 - accuracy: 0.7095 - val_loss: 0.5311 - val_accuracy: 0.7576\n",
            "Epoch 43/100\n",
            "17/17 [==============================] - 0s 5ms/step - loss: 0.5386 - accuracy: 0.7300 - val_loss: 0.5300 - val_accuracy: 0.7576\n",
            "Epoch 44/100\n",
            "17/17 [==============================] - 0s 4ms/step - loss: 0.5510 - accuracy: 0.7039 - val_loss: 0.5288 - val_accuracy: 0.7576\n",
            "Epoch 45/100\n",
            "17/17 [==============================] - 0s 4ms/step - loss: 0.5626 - accuracy: 0.7263 - val_loss: 0.5286 - val_accuracy: 0.7576\n",
            "Epoch 46/100\n",
            "17/17 [==============================] - 0s 5ms/step - loss: 0.5496 - accuracy: 0.7095 - val_loss: 0.5276 - val_accuracy: 0.7576\n",
            "Epoch 47/100\n",
            "17/17 [==============================] - 0s 4ms/step - loss: 0.5445 - accuracy: 0.7076 - val_loss: 0.5265 - val_accuracy: 0.7662\n",
            "Epoch 48/100\n",
            "17/17 [==============================] - 0s 5ms/step - loss: 0.5576 - accuracy: 0.7076 - val_loss: 0.5251 - val_accuracy: 0.7706\n",
            "Epoch 49/100\n",
            "17/17 [==============================] - 0s 5ms/step - loss: 0.5423 - accuracy: 0.7263 - val_loss: 0.5247 - val_accuracy: 0.7706\n",
            "Epoch 50/100\n",
            "17/17 [==============================] - 0s 5ms/step - loss: 0.5421 - accuracy: 0.7263 - val_loss: 0.5240 - val_accuracy: 0.7706\n",
            "Epoch 51/100\n",
            "17/17 [==============================] - 0s 5ms/step - loss: 0.5539 - accuracy: 0.7132 - val_loss: 0.5241 - val_accuracy: 0.7706\n",
            "Epoch 52/100\n",
            "17/17 [==============================] - 0s 8ms/step - loss: 0.5407 - accuracy: 0.7076 - val_loss: 0.5235 - val_accuracy: 0.7662\n",
            "Epoch 53/100\n",
            "17/17 [==============================] - 0s 8ms/step - loss: 0.5353 - accuracy: 0.7114 - val_loss: 0.5232 - val_accuracy: 0.7662\n",
            "Epoch 54/100\n",
            "17/17 [==============================] - 0s 8ms/step - loss: 0.5443 - accuracy: 0.7188 - val_loss: 0.5225 - val_accuracy: 0.7706\n",
            "Epoch 55/100\n",
            "17/17 [==============================] - 0s 7ms/step - loss: 0.5512 - accuracy: 0.6965 - val_loss: 0.5226 - val_accuracy: 0.7706\n",
            "Epoch 56/100\n",
            "17/17 [==============================] - 0s 6ms/step - loss: 0.5433 - accuracy: 0.6946 - val_loss: 0.5227 - val_accuracy: 0.7662\n",
            "Epoch 57/100\n",
            "17/17 [==============================] - 0s 10ms/step - loss: 0.5529 - accuracy: 0.7058 - val_loss: 0.5229 - val_accuracy: 0.7619\n",
            "Epoch 58/100\n",
            "17/17 [==============================] - 0s 7ms/step - loss: 0.5232 - accuracy: 0.7244 - val_loss: 0.5220 - val_accuracy: 0.7662\n",
            "Epoch 59/100\n",
            "17/17 [==============================] - 0s 7ms/step - loss: 0.5429 - accuracy: 0.7225 - val_loss: 0.5208 - val_accuracy: 0.7662\n",
            "Epoch 60/100\n",
            "17/17 [==============================] - 0s 8ms/step - loss: 0.5274 - accuracy: 0.7151 - val_loss: 0.5197 - val_accuracy: 0.7662\n",
            "Epoch 61/100\n",
            "17/17 [==============================] - 0s 6ms/step - loss: 0.5250 - accuracy: 0.7225 - val_loss: 0.5193 - val_accuracy: 0.7662\n",
            "Epoch 62/100\n",
            "17/17 [==============================] - 0s 6ms/step - loss: 0.5520 - accuracy: 0.7207 - val_loss: 0.5197 - val_accuracy: 0.7662\n",
            "Epoch 63/100\n",
            "17/17 [==============================] - 0s 8ms/step - loss: 0.5294 - accuracy: 0.7467 - val_loss: 0.5196 - val_accuracy: 0.7619\n",
            "Epoch 64/100\n",
            "17/17 [==============================] - 0s 6ms/step - loss: 0.5300 - accuracy: 0.7300 - val_loss: 0.5194 - val_accuracy: 0.7706\n",
            "Epoch 65/100\n",
            "17/17 [==============================] - 0s 7ms/step - loss: 0.5456 - accuracy: 0.7207 - val_loss: 0.5197 - val_accuracy: 0.7706\n",
            "Epoch 66/100\n",
            "17/17 [==============================] - 0s 6ms/step - loss: 0.5253 - accuracy: 0.7300 - val_loss: 0.5199 - val_accuracy: 0.7706\n",
            "Epoch 67/100\n",
            "17/17 [==============================] - 0s 6ms/step - loss: 0.5370 - accuracy: 0.7225 - val_loss: 0.5196 - val_accuracy: 0.7662\n",
            "Epoch 68/100\n",
            "17/17 [==============================] - 0s 7ms/step - loss: 0.5284 - accuracy: 0.7207 - val_loss: 0.5196 - val_accuracy: 0.7619\n",
            "Epoch 69/100\n",
            "17/17 [==============================] - 0s 7ms/step - loss: 0.5353 - accuracy: 0.7188 - val_loss: 0.5189 - val_accuracy: 0.7662\n",
            "Epoch 70/100\n",
            "17/17 [==============================] - 0s 8ms/step - loss: 0.5368 - accuracy: 0.7207 - val_loss: 0.5186 - val_accuracy: 0.7619\n",
            "Epoch 71/100\n",
            "17/17 [==============================] - 0s 6ms/step - loss: 0.5205 - accuracy: 0.7151 - val_loss: 0.5181 - val_accuracy: 0.7576\n",
            "Epoch 72/100\n",
            "17/17 [==============================] - 0s 6ms/step - loss: 0.5315 - accuracy: 0.7337 - val_loss: 0.5176 - val_accuracy: 0.7619\n",
            "Epoch 73/100\n",
            "17/17 [==============================] - 0s 7ms/step - loss: 0.5310 - accuracy: 0.7188 - val_loss: 0.5176 - val_accuracy: 0.7619\n",
            "Epoch 74/100\n",
            "17/17 [==============================] - 0s 7ms/step - loss: 0.5408 - accuracy: 0.7263 - val_loss: 0.5174 - val_accuracy: 0.7619\n",
            "Epoch 75/100\n",
            "17/17 [==============================] - 0s 8ms/step - loss: 0.5428 - accuracy: 0.7300 - val_loss: 0.5167 - val_accuracy: 0.7619\n",
            "Epoch 76/100\n",
            "17/17 [==============================] - 0s 7ms/step - loss: 0.5121 - accuracy: 0.7467 - val_loss: 0.5160 - val_accuracy: 0.7619\n",
            "Epoch 77/100\n",
            "17/17 [==============================] - 0s 7ms/step - loss: 0.5269 - accuracy: 0.7132 - val_loss: 0.5159 - val_accuracy: 0.7619\n",
            "Epoch 78/100\n",
            "17/17 [==============================] - 0s 6ms/step - loss: 0.5371 - accuracy: 0.7207 - val_loss: 0.5151 - val_accuracy: 0.7619\n",
            "Epoch 79/100\n",
            "17/17 [==============================] - 0s 6ms/step - loss: 0.5217 - accuracy: 0.7207 - val_loss: 0.5149 - val_accuracy: 0.7619\n",
            "Epoch 80/100\n",
            "17/17 [==============================] - 0s 6ms/step - loss: 0.5231 - accuracy: 0.7095 - val_loss: 0.5146 - val_accuracy: 0.7662\n",
            "Epoch 81/100\n",
            "17/17 [==============================] - 0s 6ms/step - loss: 0.5361 - accuracy: 0.7207 - val_loss: 0.5143 - val_accuracy: 0.7662\n",
            "Epoch 82/100\n",
            "17/17 [==============================] - 0s 6ms/step - loss: 0.5434 - accuracy: 0.7058 - val_loss: 0.5146 - val_accuracy: 0.7619\n",
            "Epoch 83/100\n",
            "17/17 [==============================] - 0s 6ms/step - loss: 0.5395 - accuracy: 0.7281 - val_loss: 0.5143 - val_accuracy: 0.7619\n",
            "Epoch 84/100\n",
            "17/17 [==============================] - 0s 7ms/step - loss: 0.5247 - accuracy: 0.7337 - val_loss: 0.5140 - val_accuracy: 0.7619\n",
            "Epoch 85/100\n",
            "17/17 [==============================] - 0s 7ms/step - loss: 0.5465 - accuracy: 0.7207 - val_loss: 0.5139 - val_accuracy: 0.7619\n",
            "Epoch 86/100\n",
            "17/17 [==============================] - 0s 8ms/step - loss: 0.5322 - accuracy: 0.7095 - val_loss: 0.5137 - val_accuracy: 0.7619\n",
            "Epoch 87/100\n",
            "17/17 [==============================] - 0s 8ms/step - loss: 0.5307 - accuracy: 0.7095 - val_loss: 0.5129 - val_accuracy: 0.7619\n",
            "Epoch 88/100\n",
            "17/17 [==============================] - 0s 7ms/step - loss: 0.5079 - accuracy: 0.7318 - val_loss: 0.5128 - val_accuracy: 0.7619\n",
            "Epoch 89/100\n",
            "17/17 [==============================] - 0s 7ms/step - loss: 0.5161 - accuracy: 0.7430 - val_loss: 0.5125 - val_accuracy: 0.7619\n",
            "Epoch 90/100\n",
            "17/17 [==============================] - 0s 8ms/step - loss: 0.5219 - accuracy: 0.7393 - val_loss: 0.5121 - val_accuracy: 0.7619\n",
            "Epoch 91/100\n",
            "17/17 [==============================] - 0s 5ms/step - loss: 0.5290 - accuracy: 0.7020 - val_loss: 0.5125 - val_accuracy: 0.7576\n",
            "Epoch 92/100\n",
            "17/17 [==============================] - 0s 5ms/step - loss: 0.5135 - accuracy: 0.7244 - val_loss: 0.5133 - val_accuracy: 0.7576\n",
            "Epoch 93/100\n",
            "17/17 [==============================] - 0s 6ms/step - loss: 0.5262 - accuracy: 0.7244 - val_loss: 0.5137 - val_accuracy: 0.7619\n",
            "Epoch 94/100\n",
            "17/17 [==============================] - 0s 5ms/step - loss: 0.4915 - accuracy: 0.7523 - val_loss: 0.5135 - val_accuracy: 0.7576\n",
            "Epoch 95/100\n",
            "17/17 [==============================] - 0s 5ms/step - loss: 0.5056 - accuracy: 0.7486 - val_loss: 0.5129 - val_accuracy: 0.7576\n",
            "Epoch 96/100\n",
            "17/17 [==============================] - 0s 5ms/step - loss: 0.5298 - accuracy: 0.7207 - val_loss: 0.5130 - val_accuracy: 0.7619\n",
            "Epoch 97/100\n",
            "17/17 [==============================] - 0s 5ms/step - loss: 0.5148 - accuracy: 0.7263 - val_loss: 0.5135 - val_accuracy: 0.7619\n",
            "Epoch 98/100\n",
            "17/17 [==============================] - 0s 5ms/step - loss: 0.5173 - accuracy: 0.7207 - val_loss: 0.5137 - val_accuracy: 0.7619\n",
            "Epoch 99/100\n",
            "17/17 [==============================] - 0s 5ms/step - loss: 0.5243 - accuracy: 0.7132 - val_loss: 0.5130 - val_accuracy: 0.7619\n",
            "Epoch 100/100\n",
            "17/17 [==============================] - 0s 5ms/step - loss: 0.5205 - accuracy: 0.7281 - val_loss: 0.5131 - val_accuracy: 0.7662\n",
            "Test loss: 0.5131478905677795\n",
            "Test accuracy: 0.7662337422370911\n"
          ]
        }
      ]
    },
    {
      "cell_type": "code",
      "source": [
        "y_pred = (model.predict(X_test)).round()\n",
        "#feature_cols = ['gestações', 'glicose', 'pressão sanguínea', 'espessura da pele', 'insulina', 'IMC', 'função pedigree', 'idade']\n",
        "teste = [3, 190, 66, 35, 160, 40.0, 0.638, 50]\n",
        "teste = np.array(teste)\n",
        "teste = teste.reshape(1,8)\n",
        "teste = scaler.fit_transform(teste)\n",
        "y_predTeste = (model.predict(teste)).round()\n",
        "y_predTeste"
      ],
      "metadata": {
        "colab": {
          "base_uri": "https://localhost:8080/"
        },
        "id": "ZtYEW-jB0j_i",
        "outputId": "81240a53-647f-4840-93c5-6175d9c62ab5"
      },
      "execution_count": 51,
      "outputs": [
        {
          "output_type": "stream",
          "name": "stdout",
          "text": [
            "8/8 [==============================] - 0s 2ms/step\n",
            "1/1 [==============================] - 0s 23ms/step\n"
          ]
        },
        {
          "output_type": "execute_result",
          "data": {
            "text/plain": [
              "array([[0.]], dtype=float32)"
            ]
          },
          "metadata": {},
          "execution_count": 51
        }
      ]
    },
    {
      "cell_type": "code",
      "source": [
        "print(classification_report(y_test, y_pred))"
      ],
      "metadata": {
        "colab": {
          "base_uri": "https://localhost:8080/"
        },
        "id": "WG3o7lTr4SnL",
        "outputId": "607b96bb-66f4-4a36-8a84-ef6e1c65f8d3"
      },
      "execution_count": 52,
      "outputs": [
        {
          "output_type": "stream",
          "name": "stdout",
          "text": [
            "              precision    recall  f1-score   support\n",
            "\n",
            "           0       0.79      0.85      0.82       151\n",
            "           1       0.67      0.57      0.62        80\n",
            "\n",
            "    accuracy                           0.75       231\n",
            "   macro avg       0.73      0.71      0.72       231\n",
            "weighted avg       0.75      0.75      0.75       231\n",
            "\n"
          ]
        }
      ]
    }
  ]
}